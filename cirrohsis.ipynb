{
 "cells": [
  {
   "cell_type": "markdown",
   "id": "9a0d39a0",
   "metadata": {},
   "source": [
    "# <font color=#00BBFF> Loading Data </font>"
   ]
  },
  {
   "cell_type": "code",
   "execution_count": 3,
   "id": "1b47631d",
   "metadata": {},
   "outputs": [],
   "source": [
    "import pandas as pd\n",
    "import matplotlib.pyplot as plt\n",
    "import seaborn as sns\n",
    "import plotly.figure_factory as ff #This can create interactive plots\n",
    "import numpy as np\n",
    "import pandas as pd\n",
    "from sklearn.experimental import enable_iterative_imputer\n",
    "from sklearn.impute import IterativeImputer\n",
    "from sklearn.impute import KNNImputer\n",
    "from sklearn.preprocessing import StandardScaler\n",
    "from ucimlrepo import fetch_ucirepo \n",
    "import plotly.express as px"
   ]
  },
  {
   "cell_type": "code",
   "execution_count": 4,
   "id": "2a5977fd",
   "metadata": {},
   "outputs": [
    {
     "name": "stdout",
     "output_type": "stream",
     "text": [
      "                Drug    Age Sex Ascites Hepatomegaly Spiders Edema  Bilirubin  \\\n",
      "0    D-penicillamine  21464   F       Y            Y       Y     Y       14.5   \n",
      "1    D-penicillamine  20617   F       N            Y       Y     N        1.1   \n",
      "2    D-penicillamine  25594   M       N            N       N     S        1.4   \n",
      "3    D-penicillamine  19994   F       N            Y       Y     S        1.8   \n",
      "4            Placebo  13918   F       N            Y       Y     N        3.4   \n",
      "..               ...    ...  ..     ...          ...     ...   ...        ...   \n",
      "413              NaN  24472   F     NaN          NaN     NaN     N        1.2   \n",
      "414              NaN  14245   F     NaN          NaN     NaN     N        0.9   \n",
      "415              NaN  20819   F     NaN          NaN     NaN     N        1.6   \n",
      "416              NaN  21185   F     NaN          NaN     NaN     N        0.8   \n",
      "417              NaN  19358   F     NaN          NaN     NaN     N        0.7   \n",
      "\n",
      "    Cholesterol  Albumin Copper  Alk_Phos    SGOT Tryglicerides Platelets  \\\n",
      "0           261     2.60    156    1718.0  137.95           172       190   \n",
      "1           302     4.14     54    7394.8  113.52            88       221   \n",
      "2           176     3.48    210     516.0   96.10            55       151   \n",
      "3           244     2.54     64    6121.8   60.63            92       183   \n",
      "4           279     3.53    143     671.0  113.15            72       136   \n",
      "..          ...      ...    ...       ...     ...           ...       ...   \n",
      "413         NaN     2.96    NaN       NaN     NaN           NaN       174   \n",
      "414         NaN     3.83    NaN       NaN     NaN           NaN       180   \n",
      "415         NaN     3.42    NaN       NaN     NaN           NaN       143   \n",
      "416         NaN     3.75    NaN       NaN     NaN           NaN       269   \n",
      "417         NaN     3.29    NaN       NaN     NaN           NaN       350   \n",
      "\n",
      "     Prothrombin  Stage Status  \n",
      "0           12.2    4.0      D  \n",
      "1           10.6    3.0      C  \n",
      "2           12.0    4.0      D  \n",
      "3           10.3    4.0      D  \n",
      "4           10.9    3.0     CL  \n",
      "..           ...    ...    ...  \n",
      "413         10.9    3.0      D  \n",
      "414         11.2    4.0      C  \n",
      "415          9.9    3.0      C  \n",
      "416         10.4    3.0      C  \n",
      "417         10.6    4.0      C  \n",
      "\n",
      "[418 rows x 18 columns]\n"
     ]
    }
   ],
   "source": [
    "# fetch dataset \n",
    "cirrhosis_patient_survival_prediction = fetch_ucirepo(id=878) \n",
    "  \n",
    "# data (as pandas dataframes) \n",
    "X = cirrhosis_patient_survival_prediction.data.features \n",
    "y = cirrhosis_patient_survival_prediction.data.targets \n",
    "  \n",
    "df_cancer = pd.concat([X, y], axis=1)\n",
    "print(df_cancer) \n"
   ]
  },
  {
   "cell_type": "code",
   "execution_count": 5,
   "id": "0ab96824",
   "metadata": {},
   "outputs": [
    {
     "data": {
      "text/html": [
       "<div>\n",
       "<style scoped>\n",
       "    .dataframe tbody tr th:only-of-type {\n",
       "        vertical-align: middle;\n",
       "    }\n",
       "\n",
       "    .dataframe tbody tr th {\n",
       "        vertical-align: top;\n",
       "    }\n",
       "\n",
       "    .dataframe thead th {\n",
       "        text-align: right;\n",
       "    }\n",
       "</style>\n",
       "<table border=\"1\" class=\"dataframe\">\n",
       "  <thead>\n",
       "    <tr style=\"text-align: right;\">\n",
       "      <th></th>\n",
       "      <th>0</th>\n",
       "      <th>1</th>\n",
       "      <th>2</th>\n",
       "      <th>3</th>\n",
       "      <th>4</th>\n",
       "    </tr>\n",
       "  </thead>\n",
       "  <tbody>\n",
       "    <tr>\n",
       "      <th>Drug</th>\n",
       "      <td>D-penicillamine</td>\n",
       "      <td>D-penicillamine</td>\n",
       "      <td>D-penicillamine</td>\n",
       "      <td>D-penicillamine</td>\n",
       "      <td>Placebo</td>\n",
       "    </tr>\n",
       "    <tr>\n",
       "      <th>Age</th>\n",
       "      <td>21464</td>\n",
       "      <td>20617</td>\n",
       "      <td>25594</td>\n",
       "      <td>19994</td>\n",
       "      <td>13918</td>\n",
       "    </tr>\n",
       "    <tr>\n",
       "      <th>Sex</th>\n",
       "      <td>F</td>\n",
       "      <td>F</td>\n",
       "      <td>M</td>\n",
       "      <td>F</td>\n",
       "      <td>F</td>\n",
       "    </tr>\n",
       "    <tr>\n",
       "      <th>Ascites</th>\n",
       "      <td>Y</td>\n",
       "      <td>N</td>\n",
       "      <td>N</td>\n",
       "      <td>N</td>\n",
       "      <td>N</td>\n",
       "    </tr>\n",
       "    <tr>\n",
       "      <th>Hepatomegaly</th>\n",
       "      <td>Y</td>\n",
       "      <td>Y</td>\n",
       "      <td>N</td>\n",
       "      <td>Y</td>\n",
       "      <td>Y</td>\n",
       "    </tr>\n",
       "    <tr>\n",
       "      <th>Spiders</th>\n",
       "      <td>Y</td>\n",
       "      <td>Y</td>\n",
       "      <td>N</td>\n",
       "      <td>Y</td>\n",
       "      <td>Y</td>\n",
       "    </tr>\n",
       "    <tr>\n",
       "      <th>Edema</th>\n",
       "      <td>Y</td>\n",
       "      <td>N</td>\n",
       "      <td>S</td>\n",
       "      <td>S</td>\n",
       "      <td>N</td>\n",
       "    </tr>\n",
       "    <tr>\n",
       "      <th>Bilirubin</th>\n",
       "      <td>14.5</td>\n",
       "      <td>1.1</td>\n",
       "      <td>1.4</td>\n",
       "      <td>1.8</td>\n",
       "      <td>3.4</td>\n",
       "    </tr>\n",
       "    <tr>\n",
       "      <th>Cholesterol</th>\n",
       "      <td>261</td>\n",
       "      <td>302</td>\n",
       "      <td>176</td>\n",
       "      <td>244</td>\n",
       "      <td>279</td>\n",
       "    </tr>\n",
       "    <tr>\n",
       "      <th>Albumin</th>\n",
       "      <td>2.6</td>\n",
       "      <td>4.14</td>\n",
       "      <td>3.48</td>\n",
       "      <td>2.54</td>\n",
       "      <td>3.53</td>\n",
       "    </tr>\n",
       "    <tr>\n",
       "      <th>Copper</th>\n",
       "      <td>156</td>\n",
       "      <td>54</td>\n",
       "      <td>210</td>\n",
       "      <td>64</td>\n",
       "      <td>143</td>\n",
       "    </tr>\n",
       "    <tr>\n",
       "      <th>Alk_Phos</th>\n",
       "      <td>1718.0</td>\n",
       "      <td>7394.8</td>\n",
       "      <td>516.0</td>\n",
       "      <td>6121.8</td>\n",
       "      <td>671.0</td>\n",
       "    </tr>\n",
       "    <tr>\n",
       "      <th>SGOT</th>\n",
       "      <td>137.95</td>\n",
       "      <td>113.52</td>\n",
       "      <td>96.1</td>\n",
       "      <td>60.63</td>\n",
       "      <td>113.15</td>\n",
       "    </tr>\n",
       "    <tr>\n",
       "      <th>Tryglicerides</th>\n",
       "      <td>172</td>\n",
       "      <td>88</td>\n",
       "      <td>55</td>\n",
       "      <td>92</td>\n",
       "      <td>72</td>\n",
       "    </tr>\n",
       "    <tr>\n",
       "      <th>Platelets</th>\n",
       "      <td>190</td>\n",
       "      <td>221</td>\n",
       "      <td>151</td>\n",
       "      <td>183</td>\n",
       "      <td>136</td>\n",
       "    </tr>\n",
       "    <tr>\n",
       "      <th>Prothrombin</th>\n",
       "      <td>12.2</td>\n",
       "      <td>10.6</td>\n",
       "      <td>12.0</td>\n",
       "      <td>10.3</td>\n",
       "      <td>10.9</td>\n",
       "    </tr>\n",
       "    <tr>\n",
       "      <th>Stage</th>\n",
       "      <td>4.0</td>\n",
       "      <td>3.0</td>\n",
       "      <td>4.0</td>\n",
       "      <td>4.0</td>\n",
       "      <td>3.0</td>\n",
       "    </tr>\n",
       "    <tr>\n",
       "      <th>Status</th>\n",
       "      <td>D</td>\n",
       "      <td>C</td>\n",
       "      <td>D</td>\n",
       "      <td>D</td>\n",
       "      <td>CL</td>\n",
       "    </tr>\n",
       "  </tbody>\n",
       "</table>\n",
       "</div>"
      ],
      "text/plain": [
       "                             0                1                2  \\\n",
       "Drug           D-penicillamine  D-penicillamine  D-penicillamine   \n",
       "Age                      21464            20617            25594   \n",
       "Sex                          F                F                M   \n",
       "Ascites                      Y                N                N   \n",
       "Hepatomegaly                 Y                Y                N   \n",
       "Spiders                      Y                Y                N   \n",
       "Edema                        Y                N                S   \n",
       "Bilirubin                 14.5              1.1              1.4   \n",
       "Cholesterol                261              302              176   \n",
       "Albumin                    2.6             4.14             3.48   \n",
       "Copper                     156               54              210   \n",
       "Alk_Phos                1718.0           7394.8            516.0   \n",
       "SGOT                    137.95           113.52             96.1   \n",
       "Tryglicerides              172               88               55   \n",
       "Platelets                  190              221              151   \n",
       "Prothrombin               12.2             10.6             12.0   \n",
       "Stage                      4.0              3.0              4.0   \n",
       "Status                       D                C                D   \n",
       "\n",
       "                             3        4  \n",
       "Drug           D-penicillamine  Placebo  \n",
       "Age                      19994    13918  \n",
       "Sex                          F        F  \n",
       "Ascites                      N        N  \n",
       "Hepatomegaly                 Y        Y  \n",
       "Spiders                      Y        Y  \n",
       "Edema                        S        N  \n",
       "Bilirubin                  1.8      3.4  \n",
       "Cholesterol                244      279  \n",
       "Albumin                   2.54     3.53  \n",
       "Copper                      64      143  \n",
       "Alk_Phos                6121.8    671.0  \n",
       "SGOT                     60.63   113.15  \n",
       "Tryglicerides               92       72  \n",
       "Platelets                  183      136  \n",
       "Prothrombin               10.3     10.9  \n",
       "Stage                      4.0      3.0  \n",
       "Status                       D       CL  "
      ]
     },
     "execution_count": 5,
     "metadata": {},
     "output_type": "execute_result"
    }
   ],
   "source": [
    "df_cancer.head().T"
   ]
  },
  {
   "cell_type": "code",
   "execution_count": 6,
   "id": "a010a7d6",
   "metadata": {},
   "outputs": [
    {
     "data": {
      "text/plain": [
       "(418, 18)"
      ]
     },
     "execution_count": 6,
     "metadata": {},
     "output_type": "execute_result"
    }
   ],
   "source": [
    "df_cancer.shape"
   ]
  },
  {
   "cell_type": "code",
   "execution_count": 7,
   "id": "6ce190d4",
   "metadata": {},
   "outputs": [
    {
     "data": {
      "text/plain": [
       "Sex\n",
       "F    374\n",
       "M     44\n",
       "Name: count, dtype: int64"
      ]
     },
     "execution_count": 7,
     "metadata": {},
     "output_type": "execute_result"
    }
   ],
   "source": [
    "df_cancer['Sex'].value_counts()"
   ]
  },
  {
   "cell_type": "code",
   "execution_count": 8,
   "id": "8d8f750d",
   "metadata": {},
   "outputs": [
    {
     "name": "stdout",
     "output_type": "stream",
     "text": [
      "<class 'pandas.core.frame.DataFrame'>\n",
      "RangeIndex: 418 entries, 0 to 417\n",
      "Data columns (total 18 columns):\n",
      " #   Column         Non-Null Count  Dtype  \n",
      "---  ------         --------------  -----  \n",
      " 0   Drug           313 non-null    object \n",
      " 1   Age            418 non-null    int64  \n",
      " 2   Sex            418 non-null    object \n",
      " 3   Ascites        313 non-null    object \n",
      " 4   Hepatomegaly   313 non-null    object \n",
      " 5   Spiders        313 non-null    object \n",
      " 6   Edema          418 non-null    object \n",
      " 7   Bilirubin      418 non-null    float64\n",
      " 8   Cholesterol    312 non-null    object \n",
      " 9   Albumin        418 non-null    float64\n",
      " 10  Copper         312 non-null    object \n",
      " 11  Alk_Phos       312 non-null    float64\n",
      " 12  SGOT           312 non-null    float64\n",
      " 13  Tryglicerides  312 non-null    object \n",
      " 14  Platelets      411 non-null    object \n",
      " 15  Prothrombin    416 non-null    float64\n",
      " 16  Stage          412 non-null    float64\n",
      " 17  Status         418 non-null    object \n",
      "dtypes: float64(6), int64(1), object(11)\n",
      "memory usage: 58.9+ KB\n"
     ]
    }
   ],
   "source": [
    "df_cancer.info()"
   ]
  },
  {
   "cell_type": "code",
   "execution_count": 9,
   "id": "bf379ec4",
   "metadata": {},
   "outputs": [
    {
     "data": {
      "text/plain": [
       "np.int64(0)"
      ]
     },
     "execution_count": 9,
     "metadata": {},
     "output_type": "execute_result"
    }
   ],
   "source": [
    "df_cancer.duplicated() \n",
    "df_cancer.duplicated().sum()"
   ]
  },
  {
   "cell_type": "code",
   "execution_count": 10,
   "id": "1ba9f77d",
   "metadata": {},
   "outputs": [
    {
     "name": "stdout",
     "output_type": "stream",
     "text": [
      "Drug             25.119617\n",
      "Age               0.000000\n",
      "Sex               0.000000\n",
      "Ascites          25.119617\n",
      "Hepatomegaly     25.119617\n",
      "Spiders          25.119617\n",
      "Edema             0.000000\n",
      "Bilirubin         0.000000\n",
      "Cholesterol      25.358852\n",
      "Albumin           0.000000\n",
      "Copper           25.358852\n",
      "Alk_Phos         25.358852\n",
      "SGOT             25.358852\n",
      "Tryglicerides    25.358852\n",
      "Platelets         1.674641\n",
      "Prothrombin       0.478469\n",
      "Stage             1.435407\n",
      "Status            0.000000\n",
      "dtype: float64\n"
     ]
    }
   ],
   "source": [
    "missing_count = df_cancer.isnull().sum()\n",
    "missing_percentage = (df_cancer.isnull().sum() / len(df_cancer)) * 100\n",
    "print(missing_percentage)"
   ]
  },
  {
   "cell_type": "markdown",
   "id": "11caf5ea",
   "metadata": {},
   "source": [
    "# <font color=#00BBFF> Handling missing values </font>"
   ]
  },
  {
   "cell_type": "code",
   "execution_count": 11,
   "id": "52873ef8",
   "metadata": {},
   "outputs": [],
   "source": [
    "df_copy_cancer=df_cancer.copy()\n",
    "#using mode to handle missing value\n",
    "mode_Stagevalue = df_copy_cancer['Stage'].mode()[0]\n",
    "df_copy_cancer['Stage'] = df_copy_cancer['Stage'].fillna(mode_Stagevalue)\n",
    "mode_Plateletsvalue = df_copy_cancer['Platelets'].mode()[0]\n",
    "df_copy_cancer['Platelets'] = df_copy_cancer['Platelets'].fillna(mode_Plateletsvalue)\n",
    "mode_drugvalue = df_copy_cancer['Drug'].mode()[0]\n",
    "df_copy_cancer['Drug'] = df_copy_cancer['Drug'].fillna(mode_drugvalue)\n",
    "mode_Ascitesvalue = df_copy_cancer['Ascites'].mode()[0]\n",
    "df_copy_cancer['Ascites'] = df_copy_cancer['Ascites'].fillna(mode_Ascitesvalue)\n",
    "mode_Hepatomegalyvalue = df_copy_cancer['Hepatomegaly'].mode()[0]\n",
    "df_copy_cancer['Hepatomegaly'] = df_copy_cancer['Hepatomegaly'].fillna(mode_Hepatomegalyvalue)\n",
    "mode_Spidersvalue = df_copy_cancer['Spiders'].mode()[0]\n",
    "df_copy_cancer['Spiders'] = df_copy_cancer['Spiders'].fillna(mode_Spidersvalue)\n",
    "#using median to handle missing value\n",
    "median_Prothrombinvalue = df_copy_cancer['Prothrombin'].median()\n",
    "df_copy_cancer['Prothrombin'] = df_copy_cancer['Prothrombin'].fillna(median_Prothrombinvalue)"
   ]
  },
  {
   "cell_type": "code",
   "execution_count": 12,
   "id": "013b5b0a",
   "metadata": {},
   "outputs": [],
   "source": [
    "#use MICE handle missing values\n",
    "# 1. 重新定義：只納入數值型高遺失率欄位\n",
    "mice_numeric_cols = [\n",
    "    'Cholesterol',\n",
    "    'Copper',\n",
    "    'Alk_Phos',\n",
    "    'SGOT',\n",
    "    'Tryglicerides'\n",
    "]\n",
    "\n",
    "# 2. 確保數值型態 (針對我們要處理的欄位)\n",
    "# 將任何無法識別的字串轉換為 np.nan\n",
    "for col in mice_numeric_cols:\n",
    "    df_copy_cancer[col] = pd.to_numeric(df_copy_cancer[col], errors='coerce')\n",
    "\n",
    "# 3. 初始化 MICE 估算器\n",
    "imputer = IterativeImputer(\n",
    "    max_iter=10,\n",
    "    random_state=42\n",
    ")\n",
    "\n",
    "data_to_impute = df_copy_cancer[mice_numeric_cols].values \n",
    "imputed_data = imputer.fit_transform(data_to_impute)\n",
    "\n",
    "df_copy_cancer[mice_numeric_cols] = imputed_data \n"
   ]
  },
  {
   "cell_type": "code",
   "execution_count": 13,
   "id": "6d8b1352",
   "metadata": {},
   "outputs": [
    {
     "name": "stdout",
     "output_type": "stream",
     "text": [
      "<class 'pandas.core.frame.DataFrame'>\n",
      "RangeIndex: 418 entries, 0 to 417\n",
      "Data columns (total 18 columns):\n",
      " #   Column         Non-Null Count  Dtype  \n",
      "---  ------         --------------  -----  \n",
      " 0   Drug           418 non-null    object \n",
      " 1   Age            418 non-null    int64  \n",
      " 2   Sex            418 non-null    object \n",
      " 3   Ascites        418 non-null    object \n",
      " 4   Hepatomegaly   418 non-null    object \n",
      " 5   Spiders        418 non-null    object \n",
      " 6   Edema          418 non-null    object \n",
      " 7   Bilirubin      418 non-null    float64\n",
      " 8   Cholesterol    418 non-null    float64\n",
      " 9   Albumin        418 non-null    float64\n",
      " 10  Copper         418 non-null    float64\n",
      " 11  Alk_Phos       418 non-null    float64\n",
      " 12  SGOT           418 non-null    float64\n",
      " 13  Tryglicerides  418 non-null    float64\n",
      " 14  Platelets      418 non-null    object \n",
      " 15  Prothrombin    418 non-null    float64\n",
      " 16  Stage          418 non-null    float64\n",
      " 17  Status         418 non-null    object \n",
      "dtypes: float64(9), int64(1), object(8)\n",
      "memory usage: 58.9+ KB\n"
     ]
    }
   ],
   "source": [
    "df_copy_cancer.info()"
   ]
  },
  {
   "cell_type": "code",
   "execution_count": 14,
   "id": "4619d9bf",
   "metadata": {},
   "outputs": [
    {
     "data": {
      "text/html": [
       "<div>\n",
       "<style scoped>\n",
       "    .dataframe tbody tr th:only-of-type {\n",
       "        vertical-align: middle;\n",
       "    }\n",
       "\n",
       "    .dataframe tbody tr th {\n",
       "        vertical-align: top;\n",
       "    }\n",
       "\n",
       "    .dataframe thead th {\n",
       "        text-align: right;\n",
       "    }\n",
       "</style>\n",
       "<table border=\"1\" class=\"dataframe\">\n",
       "  <thead>\n",
       "    <tr style=\"text-align: right;\">\n",
       "      <th></th>\n",
       "      <th>0</th>\n",
       "      <th>1</th>\n",
       "      <th>2</th>\n",
       "      <th>3</th>\n",
       "      <th>4</th>\n",
       "    </tr>\n",
       "  </thead>\n",
       "  <tbody>\n",
       "    <tr>\n",
       "      <th>Drug</th>\n",
       "      <td>D-penicillamine</td>\n",
       "      <td>D-penicillamine</td>\n",
       "      <td>D-penicillamine</td>\n",
       "      <td>D-penicillamine</td>\n",
       "      <td>Placebo</td>\n",
       "    </tr>\n",
       "    <tr>\n",
       "      <th>Age</th>\n",
       "      <td>21464</td>\n",
       "      <td>20617</td>\n",
       "      <td>25594</td>\n",
       "      <td>19994</td>\n",
       "      <td>13918</td>\n",
       "    </tr>\n",
       "    <tr>\n",
       "      <th>Sex</th>\n",
       "      <td>F</td>\n",
       "      <td>F</td>\n",
       "      <td>M</td>\n",
       "      <td>F</td>\n",
       "      <td>F</td>\n",
       "    </tr>\n",
       "    <tr>\n",
       "      <th>Ascites</th>\n",
       "      <td>Y</td>\n",
       "      <td>N</td>\n",
       "      <td>N</td>\n",
       "      <td>N</td>\n",
       "      <td>N</td>\n",
       "    </tr>\n",
       "    <tr>\n",
       "      <th>Hepatomegaly</th>\n",
       "      <td>Y</td>\n",
       "      <td>Y</td>\n",
       "      <td>N</td>\n",
       "      <td>Y</td>\n",
       "      <td>Y</td>\n",
       "    </tr>\n",
       "    <tr>\n",
       "      <th>Spiders</th>\n",
       "      <td>Y</td>\n",
       "      <td>Y</td>\n",
       "      <td>N</td>\n",
       "      <td>Y</td>\n",
       "      <td>Y</td>\n",
       "    </tr>\n",
       "    <tr>\n",
       "      <th>Edema</th>\n",
       "      <td>Y</td>\n",
       "      <td>N</td>\n",
       "      <td>S</td>\n",
       "      <td>S</td>\n",
       "      <td>N</td>\n",
       "    </tr>\n",
       "    <tr>\n",
       "      <th>Bilirubin</th>\n",
       "      <td>14.5</td>\n",
       "      <td>1.1</td>\n",
       "      <td>1.4</td>\n",
       "      <td>1.8</td>\n",
       "      <td>3.4</td>\n",
       "    </tr>\n",
       "    <tr>\n",
       "      <th>Cholesterol</th>\n",
       "      <td>261.0</td>\n",
       "      <td>302.0</td>\n",
       "      <td>176.0</td>\n",
       "      <td>244.0</td>\n",
       "      <td>279.0</td>\n",
       "    </tr>\n",
       "    <tr>\n",
       "      <th>Albumin</th>\n",
       "      <td>2.6</td>\n",
       "      <td>4.14</td>\n",
       "      <td>3.48</td>\n",
       "      <td>2.54</td>\n",
       "      <td>3.53</td>\n",
       "    </tr>\n",
       "    <tr>\n",
       "      <th>Copper</th>\n",
       "      <td>156.0</td>\n",
       "      <td>54.0</td>\n",
       "      <td>210.0</td>\n",
       "      <td>64.0</td>\n",
       "      <td>143.0</td>\n",
       "    </tr>\n",
       "    <tr>\n",
       "      <th>Alk_Phos</th>\n",
       "      <td>1718.0</td>\n",
       "      <td>7394.8</td>\n",
       "      <td>516.0</td>\n",
       "      <td>6121.8</td>\n",
       "      <td>671.0</td>\n",
       "    </tr>\n",
       "    <tr>\n",
       "      <th>SGOT</th>\n",
       "      <td>137.95</td>\n",
       "      <td>113.52</td>\n",
       "      <td>96.1</td>\n",
       "      <td>60.63</td>\n",
       "      <td>113.15</td>\n",
       "    </tr>\n",
       "    <tr>\n",
       "      <th>Tryglicerides</th>\n",
       "      <td>172.0</td>\n",
       "      <td>88.0</td>\n",
       "      <td>55.0</td>\n",
       "      <td>92.0</td>\n",
       "      <td>72.0</td>\n",
       "    </tr>\n",
       "    <tr>\n",
       "      <th>Platelets</th>\n",
       "      <td>190</td>\n",
       "      <td>221</td>\n",
       "      <td>151</td>\n",
       "      <td>183</td>\n",
       "      <td>136</td>\n",
       "    </tr>\n",
       "    <tr>\n",
       "      <th>Prothrombin</th>\n",
       "      <td>12.2</td>\n",
       "      <td>10.6</td>\n",
       "      <td>12.0</td>\n",
       "      <td>10.3</td>\n",
       "      <td>10.9</td>\n",
       "    </tr>\n",
       "    <tr>\n",
       "      <th>Stage</th>\n",
       "      <td>4.0</td>\n",
       "      <td>3.0</td>\n",
       "      <td>4.0</td>\n",
       "      <td>4.0</td>\n",
       "      <td>3.0</td>\n",
       "    </tr>\n",
       "    <tr>\n",
       "      <th>Status</th>\n",
       "      <td>D</td>\n",
       "      <td>C</td>\n",
       "      <td>D</td>\n",
       "      <td>D</td>\n",
       "      <td>CL</td>\n",
       "    </tr>\n",
       "  </tbody>\n",
       "</table>\n",
       "</div>"
      ],
      "text/plain": [
       "                             0                1                2  \\\n",
       "Drug           D-penicillamine  D-penicillamine  D-penicillamine   \n",
       "Age                      21464            20617            25594   \n",
       "Sex                          F                F                M   \n",
       "Ascites                      Y                N                N   \n",
       "Hepatomegaly                 Y                Y                N   \n",
       "Spiders                      Y                Y                N   \n",
       "Edema                        Y                N                S   \n",
       "Bilirubin                 14.5              1.1              1.4   \n",
       "Cholesterol              261.0            302.0            176.0   \n",
       "Albumin                    2.6             4.14             3.48   \n",
       "Copper                   156.0             54.0            210.0   \n",
       "Alk_Phos                1718.0           7394.8            516.0   \n",
       "SGOT                    137.95           113.52             96.1   \n",
       "Tryglicerides            172.0             88.0             55.0   \n",
       "Platelets                  190              221              151   \n",
       "Prothrombin               12.2             10.6             12.0   \n",
       "Stage                      4.0              3.0              4.0   \n",
       "Status                       D                C                D   \n",
       "\n",
       "                             3        4  \n",
       "Drug           D-penicillamine  Placebo  \n",
       "Age                      19994    13918  \n",
       "Sex                          F        F  \n",
       "Ascites                      N        N  \n",
       "Hepatomegaly                 Y        Y  \n",
       "Spiders                      Y        Y  \n",
       "Edema                        S        N  \n",
       "Bilirubin                  1.8      3.4  \n",
       "Cholesterol              244.0    279.0  \n",
       "Albumin                   2.54     3.53  \n",
       "Copper                    64.0    143.0  \n",
       "Alk_Phos                6121.8    671.0  \n",
       "SGOT                     60.63   113.15  \n",
       "Tryglicerides             92.0     72.0  \n",
       "Platelets                  183      136  \n",
       "Prothrombin               10.3     10.9  \n",
       "Stage                      4.0      3.0  \n",
       "Status                       D       CL  "
      ]
     },
     "execution_count": 14,
     "metadata": {},
     "output_type": "execute_result"
    }
   ],
   "source": [
    "df_copy_cancer.head().T"
   ]
  },
  {
   "cell_type": "markdown",
   "id": "ea85d859",
   "metadata": {},
   "source": [
    "# <font color=#00BBFF> Data type conversion </font>"
   ]
  },
  {
   "cell_type": "code",
   "execution_count": 15,
   "id": "0baa3d02",
   "metadata": {},
   "outputs": [],
   "source": [
    "col_type = ['Ascites', 'Hepatomegaly', 'Spiders']\n",
    "mapping = {'Y': 1, 'N': 0}\n",
    "\n",
    "for col in col_type:\n",
    "    # 1. 執行映射 (這會將 NaN 留下)\n",
    "    series_mapped = df_copy_cancer[col].map(mapping)\n",
    "    \n",
    "    # 2. 填充缺失值：用眾數（最常見）或用一個新類別的值（如 -1 或 2）\n",
    "    # 這裡假設您想用 2 來代表缺失值或未定義\n",
    "    series_filled = series_mapped.fillna(2)\n",
    "    \n",
    "    # 3. 轉換為標準整數\n",
    "    df_copy_cancer[col] = series_filled.astype(int)"
   ]
  },
  {
   "cell_type": "code",
   "execution_count": 16,
   "id": "a344a434",
   "metadata": {},
   "outputs": [],
   "source": [
    "col_type = ['Sex']\n",
    "mapping = {'F': 1, 'M': 2}\n",
    "\n",
    "for col in col_type:\n",
    "    # 1. 執行映射 (這會將 NaN 留下)\n",
    "    series_mapped = df_copy_cancer[col].map(mapping)\n",
    "    \n",
    "    # 2. 填充缺失值：用眾數（最常見）或用一個新類別的值（如 -1 或 2）\n",
    "    # 這裡假設您想用 2 來代表缺失值或未定義\n",
    "    series_filled = series_mapped.fillna(2)\n",
    "    \n",
    "    # 3. 轉換為標準整數\n",
    "    df_copy_cancer[col] = series_filled.astype(int)"
   ]
  },
  {
   "cell_type": "code",
   "execution_count": 17,
   "id": "c42711e6",
   "metadata": {},
   "outputs": [
    {
     "data": {
      "text/plain": [
       "Sex\n",
       "1    374\n",
       "2     44\n",
       "Name: count, dtype: int64"
      ]
     },
     "execution_count": 17,
     "metadata": {},
     "output_type": "execute_result"
    }
   ],
   "source": [
    "df_copy_cancer['Sex'].value_counts()"
   ]
  },
  {
   "cell_type": "markdown",
   "id": "53ab6916",
   "metadata": {},
   "source": [
    "# <font color=#00BBFF> Missing value plot</font>"
   ]
  },
  {
   "cell_type": "code",
   "execution_count": 18,
   "id": "bc9658b1",
   "metadata": {},
   "outputs": [
    {
     "data": {
      "image/png": "[encoded data removed]",
      "text/plain": [
       "<Figure size 1000x600 with 1 Axes>"
      ]
     },
     "metadata": {},
     "output_type": "display_data"
    }
   ],
   "source": [
    "plt.figure(figsize=(10, 6))\n",
    "sns.heatmap(df_cancer.isnull(), cbar=False)\n",
    "plt.title(\"Missing Value\")\n",
    "plt.xlabel(\"Feature\")\n",
    "plt.ylabel(\"Values\")\n",
    "plt.show()"
   ]
  },
  {
   "cell_type": "code",
   "execution_count": 19,
   "id": "3b5aa091",
   "metadata": {},
   "outputs": [
    {
     "data": {
      "text/html": [
       "<div>\n",
       "<style scoped>\n",
       "    .dataframe tbody tr th:only-of-type {\n",
       "        vertical-align: middle;\n",
       "    }\n",
       "\n",
       "    .dataframe tbody tr th {\n",
       "        vertical-align: top;\n",
       "    }\n",
       "\n",
       "    .dataframe thead th {\n",
       "        text-align: right;\n",
       "    }\n",
       "</style>\n",
       "<table border=\"1\" class=\"dataframe\">\n",
       "  <thead>\n",
       "    <tr style=\"text-align: right;\">\n",
       "      <th></th>\n",
       "      <th>count</th>\n",
       "      <th>mean</th>\n",
       "      <th>std</th>\n",
       "      <th>min</th>\n",
       "      <th>25%</th>\n",
       "      <th>50%</th>\n",
       "      <th>75%</th>\n",
       "      <th>max</th>\n",
       "    </tr>\n",
       "  </thead>\n",
       "  <tbody>\n",
       "    <tr>\n",
       "      <th>Age</th>\n",
       "      <td>418.0</td>\n",
       "      <td>18533.351675</td>\n",
       "      <td>3815.845055</td>\n",
       "      <td>9598.00</td>\n",
       "      <td>15644.500000</td>\n",
       "      <td>18628.000000</td>\n",
       "      <td>21272.500000</td>\n",
       "      <td>28650.00</td>\n",
       "    </tr>\n",
       "    <tr>\n",
       "      <th>Sex</th>\n",
       "      <td>418.0</td>\n",
       "      <td>1.105263</td>\n",
       "      <td>0.307260</td>\n",
       "      <td>1.00</td>\n",
       "      <td>1.000000</td>\n",
       "      <td>1.000000</td>\n",
       "      <td>1.000000</td>\n",
       "      <td>2.00</td>\n",
       "    </tr>\n",
       "    <tr>\n",
       "      <th>Ascites</th>\n",
       "      <td>418.0</td>\n",
       "      <td>0.062201</td>\n",
       "      <td>0.251531</td>\n",
       "      <td>0.00</td>\n",
       "      <td>0.000000</td>\n",
       "      <td>0.000000</td>\n",
       "      <td>0.000000</td>\n",
       "      <td>2.00</td>\n",
       "    </tr>\n",
       "    <tr>\n",
       "      <th>Hepatomegaly</th>\n",
       "      <td>418.0</td>\n",
       "      <td>0.638756</td>\n",
       "      <td>0.485897</td>\n",
       "      <td>0.00</td>\n",
       "      <td>0.000000</td>\n",
       "      <td>1.000000</td>\n",
       "      <td>1.000000</td>\n",
       "      <td>2.00</td>\n",
       "    </tr>\n",
       "    <tr>\n",
       "      <th>Spiders</th>\n",
       "      <td>418.0</td>\n",
       "      <td>0.220096</td>\n",
       "      <td>0.420549</td>\n",
       "      <td>0.00</td>\n",
       "      <td>0.000000</td>\n",
       "      <td>0.000000</td>\n",
       "      <td>0.000000</td>\n",
       "      <td>2.00</td>\n",
       "    </tr>\n",
       "    <tr>\n",
       "      <th>Bilirubin</th>\n",
       "      <td>418.0</td>\n",
       "      <td>3.220813</td>\n",
       "      <td>4.407506</td>\n",
       "      <td>0.30</td>\n",
       "      <td>0.800000</td>\n",
       "      <td>1.400000</td>\n",
       "      <td>3.400000</td>\n",
       "      <td>28.00</td>\n",
       "    </tr>\n",
       "    <tr>\n",
       "      <th>Cholesterol</th>\n",
       "      <td>418.0</td>\n",
       "      <td>367.724944</td>\n",
       "      <td>192.062818</td>\n",
       "      <td>120.00</td>\n",
       "      <td>268.662604</td>\n",
       "      <td>367.724944</td>\n",
       "      <td>368.248969</td>\n",
       "      <td>1775.00</td>\n",
       "    </tr>\n",
       "    <tr>\n",
       "      <th>Albumin</th>\n",
       "      <td>418.0</td>\n",
       "      <td>3.497440</td>\n",
       "      <td>0.424972</td>\n",
       "      <td>1.96</td>\n",
       "      <td>3.242500</td>\n",
       "      <td>3.530000</td>\n",
       "      <td>3.770000</td>\n",
       "      <td>4.64</td>\n",
       "    </tr>\n",
       "    <tr>\n",
       "      <th>Copper</th>\n",
       "      <td>418.0</td>\n",
       "      <td>97.594323</td>\n",
       "      <td>73.701343</td>\n",
       "      <td>4.00</td>\n",
       "      <td>51.250000</td>\n",
       "      <td>97.594323</td>\n",
       "      <td>100.750000</td>\n",
       "      <td>588.00</td>\n",
       "    </tr>\n",
       "    <tr>\n",
       "      <th>Alk_Phos</th>\n",
       "      <td>418.0</td>\n",
       "      <td>1982.655769</td>\n",
       "      <td>1848.437803</td>\n",
       "      <td>289.00</td>\n",
       "      <td>1016.250000</td>\n",
       "      <td>1717.000000</td>\n",
       "      <td>1982.655769</td>\n",
       "      <td>13862.40</td>\n",
       "    </tr>\n",
       "    <tr>\n",
       "      <th>SGOT</th>\n",
       "      <td>418.0</td>\n",
       "      <td>122.556346</td>\n",
       "      <td>48.965657</td>\n",
       "      <td>26.35</td>\n",
       "      <td>91.000000</td>\n",
       "      <td>122.556346</td>\n",
       "      <td>135.750000</td>\n",
       "      <td>457.25</td>\n",
       "    </tr>\n",
       "    <tr>\n",
       "      <th>Tryglicerides</th>\n",
       "      <td>418.0</td>\n",
       "      <td>124.237597</td>\n",
       "      <td>53.629469</td>\n",
       "      <td>33.00</td>\n",
       "      <td>95.000000</td>\n",
       "      <td>124.237597</td>\n",
       "      <td>132.500000</td>\n",
       "      <td>598.00</td>\n",
       "    </tr>\n",
       "    <tr>\n",
       "      <th>Prothrombin</th>\n",
       "      <td>418.0</td>\n",
       "      <td>10.731100</td>\n",
       "      <td>1.019587</td>\n",
       "      <td>9.00</td>\n",
       "      <td>10.000000</td>\n",
       "      <td>10.600000</td>\n",
       "      <td>11.100000</td>\n",
       "      <td>18.00</td>\n",
       "    </tr>\n",
       "    <tr>\n",
       "      <th>Stage</th>\n",
       "      <td>418.0</td>\n",
       "      <td>3.023923</td>\n",
       "      <td>0.875678</td>\n",
       "      <td>1.00</td>\n",
       "      <td>2.000000</td>\n",
       "      <td>3.000000</td>\n",
       "      <td>4.000000</td>\n",
       "      <td>4.00</td>\n",
       "    </tr>\n",
       "  </tbody>\n",
       "</table>\n",
       "</div>"
      ],
      "text/plain": [
       "               count          mean          std      min           25%  \\\n",
       "Age            418.0  18533.351675  3815.845055  9598.00  15644.500000   \n",
       "Sex            418.0      1.105263     0.307260     1.00      1.000000   \n",
       "Ascites        418.0      0.062201     0.251531     0.00      0.000000   \n",
       "Hepatomegaly   418.0      0.638756     0.485897     0.00      0.000000   \n",
       "Spiders        418.0      0.220096     0.420549     0.00      0.000000   \n",
       "Bilirubin      418.0      3.220813     4.407506     0.30      0.800000   \n",
       "Cholesterol    418.0    367.724944   192.062818   120.00    268.662604   \n",
       "Albumin        418.0      3.497440     0.424972     1.96      3.242500   \n",
       "Copper         418.0     97.594323    73.701343     4.00     51.250000   \n",
       "Alk_Phos       418.0   1982.655769  1848.437803   289.00   1016.250000   \n",
       "SGOT           418.0    122.556346    48.965657    26.35     91.000000   \n",
       "Tryglicerides  418.0    124.237597    53.629469    33.00     95.000000   \n",
       "Prothrombin    418.0     10.731100     1.019587     9.00     10.000000   \n",
       "Stage          418.0      3.023923     0.875678     1.00      2.000000   \n",
       "\n",
       "                        50%           75%       max  \n",
       "Age            18628.000000  21272.500000  28650.00  \n",
       "Sex                1.000000      1.000000      2.00  \n",
       "Ascites            0.000000      0.000000      2.00  \n",
       "Hepatomegaly       1.000000      1.000000      2.00  \n",
       "Spiders            0.000000      0.000000      2.00  \n",
       "Bilirubin          1.400000      3.400000     28.00  \n",
       "Cholesterol      367.724944    368.248969   1775.00  \n",
       "Albumin            3.530000      3.770000      4.64  \n",
       "Copper            97.594323    100.750000    588.00  \n",
       "Alk_Phos        1717.000000   1982.655769  13862.40  \n",
       "SGOT             122.556346    135.750000    457.25  \n",
       "Tryglicerides    124.237597    132.500000    598.00  \n",
       "Prothrombin       10.600000     11.100000     18.00  \n",
       "Stage              3.000000      4.000000      4.00  "
      ]
     },
     "execution_count": 19,
     "metadata": {},
     "output_type": "execute_result"
    }
   ],
   "source": [
    "df_copy_cancer.describe().T"
   ]
  },
  {
   "cell_type": "markdown",
   "id": "ececeb34",
   "metadata": {},
   "source": [
    "**independent:\n",
    "drug \n",
    "age\n",
    "sex\n",
    "Ascites\n",
    "Hepatomegaly\n",
    "Spiders\n",
    "Edema\n",
    "Bilirubin\n",
    "Cholesterol\n",
    "Albumin\n",
    "Copper\n",
    "Alk_Phos\n",
    "SGOT\n",
    "Tryglicerides\n",
    "Platelets\n",
    "Prothrombin\n",
    "stage\n",
    "**dependent:\n",
    "status"
   ]
  },
  {
   "cell_type": "code",
   "execution_count": 20,
   "id": "762b21d6",
   "metadata": {},
   "outputs": [
    {
     "data": {
      "text/plain": [
       "Sex\n",
       "1    374\n",
       "2     44\n",
       "Name: count, dtype: int64"
      ]
     },
     "execution_count": 20,
     "metadata": {},
     "output_type": "execute_result"
    }
   ],
   "source": [
    "df_copy_cancer['Sex'].value_counts()"
   ]
  },
  {
   "cell_type": "markdown",
   "id": "ed4031b8",
   "metadata": {},
   "source": [
    "# <font color=#00BBFF> Creating a new column to store age_year </font>"
   ]
  },
  {
   "cell_type": "code",
   "execution_count": 21,
   "id": "6884a542",
   "metadata": {},
   "outputs": [],
   "source": [
    "age_column_name = 'Age'\n",
    "df_copy_cancer['Age'] = df_copy_cancer[age_column_name] / 365\n",
    "df_copy_cancer['Age_year'] = np.round(df_copy_cancer['Age'] / 10) * 10"
   ]
  },
  {
   "cell_type": "code",
   "execution_count": 22,
   "id": "b1c041a7",
   "metadata": {},
   "outputs": [],
   "source": [
    "df_copy_cancer['Platelets'] = (\n",
    "    df_copy_cancer['Platelets']\n",
    "    .astype(str)                                # 確保所有內容都是字串，以便進行字串操作\n",
    "    .str.replace(',', '', regex=False)          # 移除所有逗號 (,)\n",
    "    .replace(['?', '-', 'NA', 'N/A', '','NaNN'], np.nan) # 將常見的非數字表示的缺失值替換為 NaN\n",
    "    .astype(float)                              # 轉換為浮點數，這樣可以處理 NaN (因為 int 類型不能直接包含 NaN)\n",
    ")\n",
    "\n",
    "# 2. 將 NaN 替換為適當的值並轉換為 int\n",
    "# 由於 int64 不能包含 NaN，您必須決定如何處理在步驟 1 中產生的 NaN 值：\n",
    "\n",
    "# 選項 A (建議): 用平均值或中位數填充 NaN，然後轉換為 int64\n",
    "# df['Platelets'] = df['Platelets'].fillna(df['Platelets'].mean()).round().astype('int64')\n",
    "\n",
    "# 選項 B: 用 0 填充 NaN，然後轉換為 int64\n",
    "df_copy_cancer['Platelets'] = df_copy_cancer['Platelets'].fillna(0).astype('int64')\n",
    "\n",
    "# 選項 C (適用於 Pandas 1.0+): 轉換為支持 NaN 的整數類型\n",
    "# df['Platelets'] = df['Platelets'].astype('Int64') # 注意是大寫 I，它允許 NaN"
   ]
  },
  {
   "cell_type": "markdown",
   "id": "a2072bf0",
   "metadata": {},
   "source": [
    "# <font color=#00BBFF> Checking values of every single features</font>"
   ]
  },
  {
   "cell_type": "code",
   "execution_count": 35,
   "id": "d26d2aa4",
   "metadata": {},
   "outputs": [
    {
     "data": {
      "text/plain": [
       "Drug             0\n",
       "Age              0\n",
       "Sex              0\n",
       "Ascites          0\n",
       "Hepatomegaly     0\n",
       "Spiders          0\n",
       "Edema            0\n",
       "Bilirubin        0\n",
       "Cholesterol      0\n",
       "Albumin          0\n",
       "Copper           0\n",
       "Alk_Phos         0\n",
       "SGOT             0\n",
       "Tryglicerides    0\n",
       "Platelets        0\n",
       "Prothrombin      0\n",
       "Stage            0\n",
       "Status           0\n",
       "Age_year         0\n",
       "dtype: int64"
      ]
     },
     "execution_count": 35,
     "metadata": {},
     "output_type": "execute_result"
    }
   ],
   "source": [
    "df_copy_cancer.isnull().sum()"
   ]
  },
  {
   "cell_type": "markdown",
   "id": "cc813f64",
   "metadata": {},
   "source": [
    "# <font color=#00BBFF> Visualization</font>"
   ]
  },
  {
   "cell_type": "code",
   "execution_count": 94,
   "id": "bd786157",
   "metadata": {},
   "outputs": [],
   "source": [
    "plt.rcParams.update({\n",
    "    'figure.facecolor': 'white',  # 整個畫布的背景色\n",
    "    'axes.facecolor': 'white',    # 座標軸的背景色\n",
    "    'axes.edgecolor': 'black',    # 座標軸邊框\n",
    "    'axes.spines.top': True,\n",
    "    'axes.spines.right': True,\n",
    "    'axes.labelsize': 14,\n",
    "    'xtick.labelsize': 12,\n",
    "    'ytick.labelsize': 12,\n",
    "    'axes.grid': False,\n",
    "    'grid.color': 'gray',\n",
    "    'grid.alpha': 0.3,\n",
    "    'figure.figsize': [12, 10],\n",
    "    'figure.dpi': 120,\n",
    "    'font.family': 'sans-serif',\n",
    "    'font.sans-serif': ['Arial', 'DejaVu Sans', 'Liberation Sans', 'Bitstream Vera Sans', 'sans-serif'],\n",
    "    'axes.linewidth': 1.5,\n",
    "    'xtick.major.size': 5,\n",
    "    'ytick.major.size': 5,\n",
    "    'xtick.major.width': 1.5,\n",
    "    'ytick.major.width': 1.5,\n",
    "    'text.usetex': False,\n",
    "    'axes.autolimit_mode': 'round_numbers',\n",
    "    'axes.xmargin': 0.1,\n",
    "    'axes.ymargin': 0.1,\n",
    "    'axes.prop_cycle': plt.cycler('color', ['#0077BB', '#33BBEE', '#009988', '#EE7733', '#CC3311', '#EE3377', '#BBBBBB'])\n",
    "})"
   ]
  },
  {
   "cell_type": "code",
   "execution_count": 95,
   "id": "a62230ad",
   "metadata": {},
   "outputs": [
    {
     "data": {
      "image/png": "[encoded data removed]",
      "text/plain": [
       "<Figure size 1200x720 with 1 Axes>"
      ]
     },
     "metadata": {},
     "output_type": "display_data"
    }
   ],
   "source": [
    "plt.figure(figsize=(10, 6))\n",
    "ax_plots=sns.histplot(\n",
    "    data=df_copy_cancer,\n",
    "    kde=True, #adding curve in plot\n",
    "    x='Age',  \n",
    "    bins=30,  \n",
    "    color='purple',\n",
    "    edgecolor='black'\n",
    ")\n",
    "for num in ax_plots.containers: #containers is Matplotlib of property \n",
    "    labels = [int(h) for h in num.datavalues] #datavalues also a Metaplotlib of property\n",
    "    non_zero_labels = [str(y) if y > 0 else '' for y in labels]#turn int to str, so we can let 0 became space\n",
    "    ax_plots.bar_label(num, non_zero_labels, padding=3) #padding=3 means leave distance of 3 units\n",
    "        \n",
    "plt.title('Distribution of Patient Age')\n",
    "plt.xlabel('Age')\n",
    "plt.ylabel('Count')\n",
    "plt.grid(True, axis='y', alpha=0.5)\n",
    "plt.show()"
   ]
  },
  {
   "cell_type": "code",
   "execution_count": 96,
   "id": "dcbc1476",
   "metadata": {},
   "outputs": [
    {
     "data": {
      "image/png": "[encoded data removed]",
      "text/plain": [
       "<Figure size 960x720 with 1 Axes>"
      ]
     },
     "metadata": {},
     "output_type": "display_data"
    }
   ],
   "source": [
    "plt.figure(figsize=(8, 6))\n",
    "sns.countplot(data=df_copy_cancer, x='Sex')\n",
    "plt.title(\"Female and Male\")\n",
    "plt.show()"
   ]
  },
  {
   "cell_type": "code",
   "execution_count": 41,
   "id": "9d9440ac",
   "metadata": {},
   "outputs": [
    {
     "name": "stdout",
     "output_type": "stream",
     "text": [
      "\n",
      "--- Drug Frequenccy ---\n",
      "Drug\n",
      "D-penicillamine    62.92%\n",
      "Placebo            36.84%\n",
      "NaNN                0.24%\n",
      "Name: proportion, dtype: object\n",
      "\n",
      "--- Sex Frequenccy ---\n",
      "Sex\n",
      "1    89.47%\n",
      "2    10.53%\n",
      "Name: proportion, dtype: object\n",
      "\n",
      "--- Ascites Frequenccy ---\n",
      "Ascites\n",
      "0    94.02%\n",
      "1     5.74%\n",
      "2     0.24%\n",
      "Name: proportion, dtype: object\n",
      "\n",
      "--- Hepatomegaly Frequenccy ---\n",
      "Hepatomegaly\n",
      "1     63.4%\n",
      "0    36.36%\n",
      "2     0.24%\n",
      "Name: proportion, dtype: object\n",
      "\n",
      "--- Spiders Frequenccy ---\n",
      "Spiders\n",
      "0    78.23%\n",
      "1    21.53%\n",
      "2     0.24%\n",
      "Name: proportion, dtype: object\n",
      "\n",
      "--- Edema Frequenccy ---\n",
      "Edema\n",
      "N    84.69%\n",
      "S    10.53%\n",
      "Y     4.78%\n",
      "Name: proportion, dtype: object\n",
      "\n",
      "--- Status Frequenccy ---\n",
      "Status\n",
      "C      55.5%\n",
      "D     38.52%\n",
      "CL     5.98%\n",
      "Name: proportion, dtype: object\n"
     ]
    },
    {
     "data": {
      "text/plain": [
       "<Figure size 1500x1200 with 0 Axes>"
      ]
     },
     "metadata": {},
     "output_type": "display_data"
    },
    {
     "data": {
      "text/plain": [
       "<Figure size 1500x1200 with 0 Axes>"
      ]
     },
     "metadata": {},
     "output_type": "display_data"
    },
    {
     "data": {
      "text/plain": [
       "<Figure size 1500x1200 with 0 Axes>"
      ]
     },
     "metadata": {},
     "output_type": "display_data"
    },
    {
     "data": {
      "text/plain": [
       "<Figure size 1500x1200 with 0 Axes>"
      ]
     },
     "metadata": {},
     "output_type": "display_data"
    },
    {
     "data": {
      "text/plain": [
       "<Figure size 1500x1200 with 0 Axes>"
      ]
     },
     "metadata": {},
     "output_type": "display_data"
    },
    {
     "data": {
      "text/plain": [
       "<Figure size 1500x1200 with 0 Axes>"
      ]
     },
     "metadata": {},
     "output_type": "display_data"
    },
    {
     "data": {
      "image/png": "[encoded data removed]",
      "text/plain": [
       "<Figure size 1500x1200 with 10 Axes>"
      ]
     },
     "metadata": {},
     "output_type": "display_data"
    }
   ],
   "source": [
    "numeric_cols = ['Bilirubin', 'Cholesterol', 'Albumin', 'Copper', \n",
    "    'Alk_Phos', 'SGOT', 'Tryglicerides', 'Prothrombin', 'Age_year', 'Stage']\n",
    "\n",
    "categorical_cols = [ 'Drug', 'Sex', 'Ascites', 'Hepatomegaly', 'Spiders', \n",
    "    'Edema', 'Status'\n",
    "]\n",
    "for col in categorical_cols:\n",
    "    print(f\"\\n--- {col} Frequenccy ---\")\n",
    "    print(df_copy_cancer[col].value_counts(normalize=True).mul(100).round(2).astype(str) + '%')\n",
    "\n",
    "    plt.figure(figsize=(15, 12))\n",
    "for i, col in enumerate(numeric_cols):\n",
    "    # 直方圖\n",
    "    plt.subplot(len(numeric_cols), 2, 2*i + 1)\n",
    "    sns.histplot(df_copy_cancer[col], kde=True, bins=15)\n",
    "    plt.title(f'Histogram of {col}')\n",
    "\n",
    "plt.tight_layout()\n",
    "plt.show()"
   ]
  },
  {
   "cell_type": "code",
   "execution_count": 44,
   "id": "75c39587",
   "metadata": {},
   "outputs": [
    {
     "data": {
      "image/png": "[encoded data removed]",
      "text/plain": [
       "<Figure size 1500x1200 with 10 Axes>"
      ]
     },
     "metadata": {},
     "output_type": "display_data"
    }
   ],
   "source": [
    "plt.figure(figsize=(15, 12))\n",
    "for i, col in enumerate(numeric_cols):\n",
    "    # 箱型圖\n",
    "    plt.subplot(len(numeric_cols), 2, 2*i + 2)\n",
    "    sns.boxplot(y=df_copy_cancer[col])\n",
    "    plt.title(f'Box Plot of {col}')\n",
    "\n",
    "    plt.tight_layout()\n",
    "plt.show()"
   ]
  },
  {
   "cell_type": "code",
   "execution_count": 37,
   "id": "fe7f4528",
   "metadata": {},
   "outputs": [
    {
     "data": {
      "image/png": "[encoded data removed]",
      "text/plain": [
       "<Figure size 2000x1800 with 7 Axes>"
      ]
     },
     "metadata": {},
     "output_type": "display_data"
    }
   ],
   "source": [
    "plt.figure(figsize=(20, 18))\n",
    "n_rows = int(np.ceil(len(categorical_cols) / 3))\n",
    "\n",
    "for i, col in enumerate(categorical_cols):\n",
    "    plt.subplot(n_rows, 3, i + 1)\n",
    "    ax = sns.countplot(x=col, data=df_copy_cancer, order=df_copy_cancer[col].value_counts().index)\n",
    "    \n",
    "    # 標記實際數值 (如果需要)\n",
    "    for p in ax.patches:\n",
    "        ax.annotate(f'{p.get_height()}', \n",
    "                    (p.get_x() + p.get_width() / 2., p.get_height()), \n",
    "                    ha = 'center', va = 'center', \n",
    "                    xytext = (0, 9), \n",
    "                    textcoords = 'offset points')\n",
    "    \n",
    "    plt.title(f'Bar Chart of {col}')\n",
    "    plt.xlabel(f'{col} (1, 2, 0, etc.)') # 提醒自己這些是編碼\n",
    "    plt.ylabel('Count')\n",
    "\n",
    "plt.tight_layout()\n",
    "plt.show()"
   ]
  },
  {
   "cell_type": "code",
   "execution_count": 100,
   "id": "7ac0eaae",
   "metadata": {},
   "outputs": [
    {
     "data": {
      "image/png": "[encoded data removed]",
      "text/plain": [
       "<Figure size 1800x600 with 3 Axes>"
      ]
     },
     "metadata": {},
     "output_type": "display_data"
    }
   ],
   "source": [
    "plt.figure(figsize=(15, 5))\n",
    "\n",
    "# 圖 1: 總膽紅素 (Bilirubin) 與 SGOT 的關係\n",
    "plt.subplot(1, 3, 1)\n",
    "sns.scatterplot(x='Bilirubin', y='SGOT', data=df_copy_cancer)\n",
    "plt.title('Bilirubin vs SGOT')\n",
    "\n",
    "# 圖 2: 白蛋白 (Albumin) 與凝血酶原 (Prothrombin) 的關係 (通常具負相關)\n",
    "plt.subplot(1, 3, 2)\n",
    "sns.scatterplot(x='Albumin', y='Prothrombin', data=df_copy_cancer)\n",
    "plt.title('Albumin vs Prothrombin')\n",
    "\n",
    "# 圖 3: 銅 (Copper) 與 Stage 的關係\n",
    "plt.subplot(1, 3, 3)\n",
    "sns.scatterplot(x='Copper', y='Stage', data=df_copy_cancer)\n",
    "plt.title('Copper vs Stage')\n",
    "\n",
    "plt.tight_layout()\n",
    "plt.show()"
   ]
  },
  {
   "cell_type": "code",
   "execution_count": 102,
   "id": "0e306bfd",
   "metadata": {},
   "outputs": [
    {
     "name": "stdout",
     "output_type": "stream",
     "text": [
      "\n",
      "--- Sex vs Status cross-tabulations ---\n",
      "Status       C      CL       D\n",
      "Sex                           \n",
      "1       0.5749  0.0588  0.3663\n",
      "2       0.3864  0.0682  0.5455\n"
     ]
    },
    {
     "data": {
      "image/png": "[encoded data removed]",
      "text/plain": [
       "<Figure size 840x600 with 1 Axes>"
      ]
     },
     "metadata": {},
     "output_type": "display_data"
    }
   ],
   "source": [
    "# 選擇目標變數 'Status' 和一個類別變數 'Sex'\n",
    "target_var = 'Status'\n",
    "cat_var_1 = 'Sex'\n",
    "\n",
    "print(f\"\\n--- {cat_var_1} vs {target_var} cross-tabulations ---\")\n",
    "\n",
    "# 計算交叉表 (請注意：如果 Status 包含多個字串值，結果會非常詳細)\n",
    "crosstab_proportions = pd.crosstab(\n",
    "    df_copy_cancer[cat_var_1], \n",
    "    df_copy_cancer[target_var], \n",
    "    normalize='index'\n",
    ").round(4)\n",
    "\n",
    "print(crosstab_proportions)\n",
    "\n",
    "# 繪製堆疊長條圖 (視覺化交叉表結果)\n",
    "plt.figure(figsize=(7, 5))\n",
    "crosstab_proportions.plot(kind='bar', stacked=True, ax=plt.gca())\n",
    "plt.title(f'{cat_var_1} vs {target_var} Proportions')\n",
    "plt.xlabel(cat_var_1)\n",
    "plt.ylabel('Proportion')\n",
    "plt.xticks(rotation=0)\n",
    "plt.legend(title=target_var, bbox_to_anchor=(1.05, 1), loc='upper left')\n",
    "plt.show()"
   ]
  },
  {
   "cell_type": "code",
   "execution_count": 105,
   "id": "2a72b61d",
   "metadata": {},
   "outputs": [
    {
     "data": {
      "application/vnd.plotly.v1+json": {
       "config": {
        "plotlyServerURL": "https://plot.ly"
       },
       "data": [
        {
         "alignmentgroup": "True",
         "box": {
          "visible": true
         },
         "hovertemplate": "Status=%{x}<br>Age=%{y}<extra></extra>",
         "legendgroup": "",
         "marker": {
          "color": "#636efa"
         },
         "name": "",
         "offsetgroup": "",
         "orientation": "v",
         "points": "all",
         "scalegroup": "True",
         "showlegend": false,
         "type": "violin",
         "x": [
          "D",
          "C",
          "D",
          "D",
          "CL",
          "D",
          "C",
          "D",
          "D",
          "D",
          "D",
          "D",
          "C",
          "D",
          "D",
          "C",
          "D",
          "D",
          "C",
          "D",
          "C",
          "D",
          "D",
          "D",
          "C",
          "D",
          "D",
          "D",
          "C",
          "D",
          "D",
          "C",
          "D",
          "C",
          "D",
          "C",
          "D",
          "D",
          "D",
          "C",
          "D",
          "C",
          "C",
          "D",
          "C",
          "D",
          "C",
          "C",
          "D",
          "D",
          "D",
          "D",
          "D",
          "D",
          "D",
          "D",
          "D",
          "C",
          "D",
          "C",
          "C",
          "D",
          "D",
          "D",
          "C",
          "D",
          "D",
          "C",
          "D",
          "C",
          "C",
          "C",
          "C",
          "D",
          "D",
          "D",
          "D",
          "D",
          "C",
          "D",
          "D",
          "D",
          "C",
          "C",
          "D",
          "D",
          "D",
          "C",
          "D",
          "D",
          "D",
          "D",
          "C",
          "D",
          "D",
          "C",
          "D",
          "C",
          "C",
          "D",
          "C",
          "C",
          "D",
          "D",
          "CL",
          "D",
          "C",
          "D",
          "C",
          "D",
          "CL",
          "D",
          "D",
          "D",
          "C",
          "C",
          "D",
          "D",
          "D",
          "CL",
          "D",
          "C",
          "D",
          "C",
          "CL",
          "D",
          "C",
          "D",
          "C",
          "D",
          "D",
          "C",
          "D",
          "C",
          "C",
          "C",
          "C",
          "D",
          "C",
          "C",
          "C",
          "D",
          "D",
          "D",
          "C",
          "C",
          "C",
          "D",
          "D",
          "C",
          "C",
          "D",
          "C",
          "D",
          "C",
          "D",
          "C",
          "CL",
          "D",
          "C",
          "C",
          "D",
          "D",
          "D",
          "D",
          "C",
          "D",
          "C",
          "D",
          "C",
          "C",
          "C",
          "C",
          "C",
          "C",
          "D",
          "C",
          "C",
          "C",
          "C",
          "C",
          "C",
          "CL",
          "D",
          "C",
          "D",
          "D",
          "C",
          "C",
          "C",
          "D",
          "C",
          "D",
          "C",
          "C",
          "C",
          "C",
          "C",
          "C",
          "C",
          "C",
          "C",
          "C",
          "D",
          "D",
          "C",
          "C",
          "D",
          "C",
          "C",
          "C",
          "C",
          "C",
          "D",
          "D",
          "C",
          "D",
          "C",
          "C",
          "D",
          "C",
          "D",
          "D",
          "C",
          "C",
          "C",
          "D",
          "C",
          "D",
          "C",
          "D",
          "C",
          "C",
          "C",
          "C",
          "C",
          "C",
          "C",
          "D",
          "C",
          "CL",
          "C",
          "D",
          "D",
          "C",
          "CL",
          "CL",
          "C",
          "C",
          "C",
          "C",
          "C",
          "C",
          "CL",
          "C",
          "C",
          "C",
          "C",
          "C",
          "C",
          "C",
          "C",
          "CL",
          "CL",
          "CL",
          "C",
          "D",
          "D",
          "C",
          "C",
          "C",
          "C",
          "C",
          "CL",
          "C",
          "C",
          "C",
          "C",
          "C",
          "C",
          "D",
          "C",
          "C",
          "C",
          "C",
          "C",
          "C",
          "CL",
          "D",
          "C",
          "CL",
          "C",
          "C",
          "C",
          "CL",
          "C",
          "CL",
          "C",
          "C",
          "D",
          "C",
          "C",
          "C",
          "C",
          "C",
          "C",
          "C",
          "C",
          "C",
          "C",
          "C",
          "C",
          "C",
          "D",
          "C",
          "D",
          "C",
          "C",
          "D",
          "C",
          "C",
          "D",
          "C",
          "C",
          "C",
          "C",
          "C",
          "D",
          "D",
          "D",
          "D",
          "D",
          "D",
          "D",
          "C",
          "C",
          "D",
          "D",
          "C",
          "C",
          "D",
          "C",
          "D",
          "C",
          "CL",
          "D",
          "D",
          "C",
          "C",
          "D",
          "D",
          "C",
          "C",
          "D",
          "C",
          "D",
          "C",
          "C",
          "C",
          "D",
          "CL",
          "CL",
          "C",
          "D",
          "C",
          "D",
          "C",
          "D",
          "D",
          "D",
          "D",
          "C",
          "C",
          "C",
          "CL",
          "D",
          "C",
          "D",
          "D",
          "CL",
          "C",
          "D",
          "CL",
          "C",
          "C",
          "C",
          "C",
          "C",
          "C",
          "C",
          "C",
          "C",
          "D",
          "C",
          "C",
          "C",
          "C",
          "C",
          "C",
          "C",
          "D",
          "C",
          "C",
          "C",
          "C",
          "D",
          "C",
          "C",
          "C",
          "C",
          "C",
          "C",
          "C",
          "D",
          "C",
          "C",
          "C",
          "C"
         ],
         "x0": " ",
         "xaxis": "x",
         "y": [
          60,
          60,
          70,
          50,
          40,
          70,
          60,
          50,
          40,
          70,
          50,
          60,
          50,
          60,
          60,
          40,
          50,
          50,
          50,
          60,
          60,
          60,
          60,
          40,
          50,
          50,
          50,
          40,
          60,
          40,
          40,
          50,
          50,
          50,
          50,
          60,
          60,
          40,
          60,
          50,
          30,
          30,
          50,
          40,
          40,
          50,
          50,
          50,
          60,
          50,
          50,
          50,
          70,
          40,
          70,
          30,
          50,
          40,
          40,
          60,
          40,
          60,
          50,
          60,
          40,
          50,
          50,
          30,
          50,
          60,
          50,
          30,
          40,
          50,
          40,
          50,
          50,
          50,
          50,
          70,
          60,
          70,
          60,
          60,
          50,
          50,
          40,
          40,
          50,
          30,
          50,
          80,
          40,
          50,
          50,
          50,
          70,
          30,
          50,
          50,
          40,
          60,
          50,
          40,
          30,
          70,
          60,
          50,
          40,
          40,
          40,
          60,
          50,
          50,
          40,
          60,
          50,
          50,
          50,
          40,
          70,
          60,
          50,
          50,
          50,
          50,
          40,
          40,
          60,
          40,
          60,
          40,
          60,
          40,
          40,
          60,
          60,
          50,
          50,
          50,
          50,
          60,
          50,
          50,
          50,
          30,
          80,
          30,
          60,
          40,
          60,
          70,
          50,
          70,
          40,
          60,
          50,
          40,
          50,
          60,
          40,
          60,
          50,
          40,
          50,
          40,
          60,
          50,
          40,
          50,
          50,
          50,
          30,
          60,
          50,
          40,
          60,
          70,
          40,
          40,
          40,
          60,
          40,
          40,
          50,
          70,
          40,
          60,
          50,
          50,
          50,
          50,
          60,
          40,
          30,
          60,
          40,
          40,
          40,
          30,
          40,
          60,
          40,
          60,
          50,
          60,
          70,
          60,
          50,
          50,
          50,
          50,
          50,
          70,
          40,
          60,
          40,
          30,
          40,
          60,
          60,
          50,
          60,
          40,
          40,
          60,
          60,
          40,
          60,
          30,
          60,
          50,
          40,
          30,
          30,
          40,
          60,
          70,
          50,
          60,
          40,
          60,
          70,
          40,
          50,
          30,
          40,
          60,
          50,
          40,
          60,
          70,
          80,
          40,
          40,
          30,
          60,
          50,
          60,
          70,
          50,
          40,
          30,
          40,
          50,
          60,
          70,
          60,
          50,
          30,
          50,
          40,
          50,
          50,
          40,
          50,
          40,
          30,
          60,
          50,
          70,
          30,
          60,
          50,
          50,
          40,
          60,
          50,
          70,
          70,
          40,
          50,
          60,
          60,
          40,
          30,
          60,
          50,
          40,
          60,
          50,
          40,
          60,
          40,
          40,
          60,
          30,
          60,
          60,
          60,
          40,
          30,
          60,
          70,
          50,
          80,
          60,
          40,
          50,
          40,
          60,
          60,
          40,
          60,
          30,
          50,
          50,
          50,
          60,
          50,
          50,
          50,
          60,
          60,
          60,
          70,
          60,
          50,
          60,
          50,
          50,
          50,
          50,
          40,
          50,
          70,
          50,
          50,
          50,
          50,
          70,
          50,
          60,
          60,
          40,
          70,
          60,
          60,
          50,
          60,
          40,
          50,
          40,
          60,
          60,
          60,
          60,
          50,
          40,
          50,
          50,
          40,
          60,
          50,
          50,
          40,
          30,
          60,
          60,
          30,
          40,
          50,
          40,
          60,
          60,
          50,
          50,
          40,
          70,
          70,
          40,
          70,
          50,
          60,
          40,
          50,
          60,
          60,
          40,
          40,
          70,
          50,
          70,
          40,
          50,
          50,
          50,
          50,
          40,
          40,
          50,
          70,
          40,
          70,
          40,
          60,
          60,
          50
         ],
         "y0": " ",
         "yaxis": "y"
        }
       ],
       "layout": {
        "legend": {
         "tracegroupgap": 0
        },
        "template": {
         "data": {
          "bar": [
           {
            "error_x": {
             "color": "#2a3f5f"
            },
            "error_y": {
             "color": "#2a3f5f"
            },
            "marker": {
             "line": {
              "color": "#E5ECF6",
              "width": 0.5
             },
             "pattern": {
              "fillmode": "overlay",
              "size": 10,
              "solidity": 0.2
             }
            },
            "type": "bar"
           }
          ],
          "barpolar": [
           {
            "marker": {
             "line": {
              "color": "#E5ECF6",
              "width": 0.5
             },
             "pattern": {
              "fillmode": "overlay",
              "size": 10,
              "solidity": 0.2
             }
            },
            "type": "barpolar"
           }
          ],
          "carpet": [
           {
            "aaxis": {
             "endlinecolor": "#2a3f5f",
             "gridcolor": "white",
             "linecolor": "white",
             "minorgridcolor": "white",
             "startlinecolor": "#2a3f5f"
            },
            "baxis": {
             "endlinecolor": "#2a3f5f",
             "gridcolor": "white",
             "linecolor": "white",
             "minorgridcolor": "white",
             "startlinecolor": "#2a3f5f"
            },
            "type": "carpet"
           }
          ],
          "choropleth": [
           {
            "colorbar": {
             "outlinewidth": 0,
             "ticks": ""
            },
            "type": "choropleth"
           }
          ],
          "contour": [
           {
            "colorbar": {
             "outlinewidth": 0,
             "ticks": ""
            },
            "colorscale": [
             [
              0,
              "#0d0887"
             ],
             [
              0.1111111111111111,
              "#46039f"
             ],
             [
              0.2222222222222222,
              "#7201a8"
             ],
             [
              0.3333333333333333,
              "#9c179e"
             ],
             [
              0.4444444444444444,
              "#bd3786"
             ],
             [
              0.5555555555555556,
              "#d8576b"
             ],
             [
              0.6666666666666666,
              "#ed7953"
             ],
             [
              0.7777777777777778,
              "#fb9f3a"
             ],
             [
              0.8888888888888888,
              "#fdca26"
             ],
             [
              1,
              "#f0f921"
             ]
            ],
            "type": "contour"
           }
          ],
          "contourcarpet": [
           {
            "colorbar": {
             "outlinewidth": 0,
             "ticks": ""
            },
            "type": "contourcarpet"
           }
          ],
          "heatmap": [
           {
            "colorbar": {
             "outlinewidth": 0,
             "ticks": ""
            },
            "colorscale": [
             [
              0,
              "#0d0887"
             ],
             [
              0.1111111111111111,
              "#46039f"
             ],
             [
              0.2222222222222222,
              "#7201a8"
             ],
             [
              0.3333333333333333,
              "#9c179e"
             ],
             [
              0.4444444444444444,
              "#bd3786"
             ],
             [
              0.5555555555555556,
              "#d8576b"
             ],
             [
              0.6666666666666666,
              "#ed7953"
             ],
             [
              0.7777777777777778,
              "#fb9f3a"
             ],
             [
              0.8888888888888888,
              "#fdca26"
             ],
             [
              1,
              "#f0f921"
             ]
            ],
            "type": "heatmap"
           }
          ],
          "heatmapgl": [
           {
            "colorbar": {
             "outlinewidth": 0,
             "ticks": ""
            },
            "colorscale": [
             [
              0,
              "#0d0887"
             ],
             [
              0.1111111111111111,
              "#46039f"
             ],
             [
              0.2222222222222222,
              "#7201a8"
             ],
             [
              0.3333333333333333,
              "#9c179e"
             ],
             [
              0.4444444444444444,
              "#bd3786"
             ],
             [
              0.5555555555555556,
              "#d8576b"
             ],
             [
              0.6666666666666666,
              "#ed7953"
             ],
             [
              0.7777777777777778,
              "#fb9f3a"
             ],
             [
              0.8888888888888888,
              "#fdca26"
             ],
             [
              1,
              "#f0f921"
             ]
            ],
            "type": "heatmapgl"
           }
          ],
          "histogram": [
           {
            "marker": {
             "pattern": {
              "fillmode": "overlay",
              "size": 10,
              "solidity": 0.2
             }
            },
            "type": "histogram"
           }
          ],
          "histogram2d": [
           {
            "colorbar": {
             "outlinewidth": 0,
             "ticks": ""
            },
            "colorscale": [
             [
              0,
              "#0d0887"
             ],
             [
              0.1111111111111111,
              "#46039f"
             ],
             [
              0.2222222222222222,
              "#7201a8"
             ],
             [
              0.3333333333333333,
              "#9c179e"
             ],
             [
              0.4444444444444444,
              "#bd3786"
             ],
             [
              0.5555555555555556,
              "#d8576b"
             ],
             [
              0.6666666666666666,
              "#ed7953"
             ],
             [
              0.7777777777777778,
              "#fb9f3a"
             ],
             [
              0.8888888888888888,
              "#fdca26"
             ],
             [
              1,
              "#f0f921"
             ]
            ],
            "type": "histogram2d"
           }
          ],
          "histogram2dcontour": [
           {
            "colorbar": {
             "outlinewidth": 0,
             "ticks": ""
            },
            "colorscale": [
             [
              0,
              "#0d0887"
             ],
             [
              0.1111111111111111,
              "#46039f"
             ],
             [
              0.2222222222222222,
              "#7201a8"
             ],
             [
              0.3333333333333333,
              "#9c179e"
             ],
             [
              0.4444444444444444,
              "#bd3786"
             ],
             [
              0.5555555555555556,
              "#d8576b"
             ],
             [
              0.6666666666666666,
              "#ed7953"
             ],
             [
              0.7777777777777778,
              "#fb9f3a"
             ],
             [
              0.8888888888888888,
              "#fdca26"
             ],
             [
              1,
              "#f0f921"
             ]
            ],
            "type": "histogram2dcontour"
           }
          ],
          "mesh3d": [
           {
            "colorbar": {
             "outlinewidth": 0,
             "ticks": ""
            },
            "type": "mesh3d"
           }
          ],
          "parcoords": [
           {
            "line": {
             "colorbar": {
              "outlinewidth": 0,
              "ticks": ""
             }
            },
            "type": "parcoords"
           }
          ],
          "pie": [
           {
            "automargin": true,
            "type": "pie"
           }
          ],
          "scatter": [
           {
            "fillpattern": {
             "fillmode": "overlay",
             "size": 10,
             "solidity": 0.2
            },
            "type": "scatter"
           }
          ],
          "scatter3d": [
           {
            "line": {
             "colorbar": {
              "outlinewidth": 0,
              "ticks": ""
             }
            },
            "marker": {
             "colorbar": {
              "outlinewidth": 0,
              "ticks": ""
             }
            },
            "type": "scatter3d"
           }
          ],
          "scattercarpet": [
           {
            "marker": {
             "colorbar": {
              "outlinewidth": 0,
              "ticks": ""
             }
            },
            "type": "scattercarpet"
           }
          ],
          "scattergeo": [
           {
            "marker": {
             "colorbar": {
              "outlinewidth": 0,
              "ticks": ""
             }
            },
            "type": "scattergeo"
           }
          ],
          "scattergl": [
           {
            "marker": {
             "colorbar": {
              "outlinewidth": 0,
              "ticks": ""
             }
            },
            "type": "scattergl"
           }
          ],
          "scattermapbox": [
           {
            "marker": {
             "colorbar": {
              "outlinewidth": 0,
              "ticks": ""
             }
            },
            "type": "scattermapbox"
           }
          ],
          "scatterpolar": [
           {
            "marker": {
             "colorbar": {
              "outlinewidth": 0,
              "ticks": ""
             }
            },
            "type": "scatterpolar"
           }
          ],
          "scatterpolargl": [
           {
            "marker": {
             "colorbar": {
              "outlinewidth": 0,
              "ticks": ""
             }
            },
            "type": "scatterpolargl"
           }
          ],
          "scatterternary": [
           {
            "marker": {
             "colorbar": {
              "outlinewidth": 0,
              "ticks": ""
             }
            },
            "type": "scatterternary"
           }
          ],
          "surface": [
           {
            "colorbar": {
             "outlinewidth": 0,
             "ticks": ""
            },
            "colorscale": [
             [
              0,
              "#0d0887"
             ],
             [
              0.1111111111111111,
              "#46039f"
             ],
             [
              0.2222222222222222,
              "#7201a8"
             ],
             [
              0.3333333333333333,
              "#9c179e"
             ],
             [
              0.4444444444444444,
              "#bd3786"
             ],
             [
              0.5555555555555556,
              "#d8576b"
             ],
             [
              0.6666666666666666,
              "#ed7953"
             ],
             [
              0.7777777777777778,
              "#fb9f3a"
             ],
             [
              0.8888888888888888,
              "#fdca26"
             ],
             [
              1,
              "#f0f921"
             ]
            ],
            "type": "surface"
           }
          ],
          "table": [
           {
            "cells": {
             "fill": {
              "color": "#EBF0F8"
             },
             "line": {
              "color": "white"
             }
            },
            "header": {
             "fill": {
              "color": "#C8D4E3"
             },
             "line": {
              "color": "white"
             }
            },
            "type": "table"
           }
          ]
         },
         "layout": {
          "annotationdefaults": {
           "arrowcolor": "#2a3f5f",
           "arrowhead": 0,
           "arrowwidth": 1
          },
          "autotypenumbers": "strict",
          "coloraxis": {
           "colorbar": {
            "outlinewidth": 0,
            "ticks": ""
           }
          },
          "colorscale": {
           "diverging": [
            [
             0,
             "#8e0152"
            ],
            [
             0.1,
             "#c51b7d"
            ],
            [
             0.2,
             "#de77ae"
            ],
            [
             0.3,
             "#f1b6da"
            ],
            [
             0.4,
             "#fde0ef"
            ],
            [
             0.5,
             "#f7f7f7"
            ],
            [
             0.6,
             "#e6f5d0"
            ],
            [
             0.7,
             "#b8e186"
            ],
            [
             0.8,
             "#7fbc41"
            ],
            [
             0.9,
             "#4d9221"
            ],
            [
             1,
             "#276419"
            ]
           ],
           "sequential": [
            [
             0,
             "#0d0887"
            ],
            [
             0.1111111111111111,
             "#46039f"
            ],
            [
             0.2222222222222222,
             "#7201a8"
            ],
            [
             0.3333333333333333,
             "#9c179e"
            ],
            [
             0.4444444444444444,
             "#bd3786"
            ],
            [
             0.5555555555555556,
             "#d8576b"
            ],
            [
             0.6666666666666666,
             "#ed7953"
            ],
            [
             0.7777777777777778,
             "#fb9f3a"
            ],
            [
             0.8888888888888888,
             "#fdca26"
            ],
            [
             1,
             "#f0f921"
            ]
           ],
           "sequentialminus": [
            [
             0,
             "#0d0887"
            ],
            [
             0.1111111111111111,
             "#46039f"
            ],
            [
             0.2222222222222222,
             "#7201a8"
            ],
            [
             0.3333333333333333,
             "#9c179e"
            ],
            [
             0.4444444444444444,
             "#bd3786"
            ],
            [
             0.5555555555555556,
             "#d8576b"
            ],
            [
             0.6666666666666666,
             "#ed7953"
            ],
            [
             0.7777777777777778,
             "#fb9f3a"
            ],
            [
             0.8888888888888888,
             "#fdca26"
            ],
            [
             1,
             "#f0f921"
            ]
           ]
          },
          "colorway": [
           "#636efa",
           "#EF553B",
           "#00cc96",
           "#ab63fa",
           "#FFA15A",
           "#19d3f3",
           "#FF6692",
           "#B6E880",
           "#FF97FF",
           "#FECB52"
          ],
          "font": {
           "color": "#2a3f5f"
          },
          "geo": {
           "bgcolor": "white",
           "lakecolor": "white",
           "landcolor": "#E5ECF6",
           "showlakes": true,
           "showland": true,
           "subunitcolor": "white"
          },
          "hoverlabel": {
           "align": "left"
          },
          "hovermode": "closest",
          "mapbox": {
           "style": "light"
          },
          "paper_bgcolor": "white",
          "plot_bgcolor": "#E5ECF6",
          "polar": {
           "angularaxis": {
            "gridcolor": "white",
            "linecolor": "white",
            "ticks": ""
           },
           "bgcolor": "#E5ECF6",
           "radialaxis": {
            "gridcolor": "white",
            "linecolor": "white",
            "ticks": ""
           }
          },
          "scene": {
           "xaxis": {
            "backgroundcolor": "#E5ECF6",
            "gridcolor": "white",
            "gridwidth": 2,
            "linecolor": "white",
            "showbackground": true,
            "ticks": "",
            "zerolinecolor": "white"
           },
           "yaxis": {
            "backgroundcolor": "#E5ECF6",
            "gridcolor": "white",
            "gridwidth": 2,
            "linecolor": "white",
            "showbackground": true,
            "ticks": "",
            "zerolinecolor": "white"
           },
           "zaxis": {
            "backgroundcolor": "#E5ECF6",
            "gridcolor": "white",
            "gridwidth": 2,
            "linecolor": "white",
            "showbackground": true,
            "ticks": "",
            "zerolinecolor": "white"
           }
          },
          "shapedefaults": {
           "line": {
            "color": "#2a3f5f"
           }
          },
          "ternary": {
           "aaxis": {
            "gridcolor": "white",
            "linecolor": "white",
            "ticks": ""
           },
           "baxis": {
            "gridcolor": "white",
            "linecolor": "white",
            "ticks": ""
           },
           "bgcolor": "#E5ECF6",
           "caxis": {
            "gridcolor": "white",
            "linecolor": "white",
            "ticks": ""
           }
          },
          "title": {
           "x": 0.05
          },
          "xaxis": {
           "automargin": true,
           "gridcolor": "white",
           "linecolor": "white",
           "ticks": "",
           "title": {
            "standoff": 15
           },
           "zerolinecolor": "white",
           "zerolinewidth": 2
          },
          "yaxis": {
           "automargin": true,
           "gridcolor": "white",
           "linecolor": "white",
           "ticks": "",
           "title": {
            "standoff": 15
           },
           "zerolinecolor": "white",
           "zerolinewidth": 2
          }
         }
        },
        "title": {
         "text": "Interactive Violin Plot of Age vs Status"
        },
        "violinmode": "group",
        "xaxis": {
         "anchor": "y",
         "domain": [
          0,
          1
         ],
         "title": {
          "text": "Status"
         }
        },
        "yaxis": {
         "anchor": "x",
         "domain": [
          0,
          1
         ],
         "title": {
          "text": "Age"
         }
        }
       }
      }
     },
     "metadata": {},
     "output_type": "display_data"
    }
   ],
   "source": [
    "fig_violin_class_age = px.violin(df_copy_cancer, x='Status', y='Age_year', box=True, points='all',\n",
    "                           labels={'Status':'Status', 'Age_year':'Age'},\n",
    "                           title=\"Interactive Violin Plot of Age vs Status\")\n",
    "fig_violin_class_age.show()"
   ]
  },
  {
   "cell_type": "code",
   "execution_count": 108,
   "id": "c624e10b",
   "metadata": {},
   "outputs": [
    {
     "data": {
      "image/png": "[encoded data removed]",
      "text/plain": [
       "<Figure size 600x600 with 1 Axes>"
      ]
     },
     "metadata": {},
     "output_type": "display_data"
    }
   ],
   "source": [
    "sex_counts = df_copy_cancer['Sex'].value_counts()\n",
    "plt.figure(figsize=(5, 5))\n",
    "values = sex_counts.values\n",
    "labels = sex_counts.index.astype(str).tolist() # 將索引轉換為字串作為標籤\n",
    "labels = ['Female', 'Male'] \n",
    "\n",
    "plt.pie(\n",
    "    values,\n",
    "    labels=labels,\n",
    "    autopct='%1.1f%%',\n",
    "    startangle=90,\n",
    "    colors=[\"#a9baf2\", \"#315eef\"], # 自定義顏色\n",
    "    wedgeprops={'edgecolor': 'black'} # 增加邊框讓扇區更清晰\n",
    ")\n",
    "plt.title('Sex', fontsize=16)\n",
    "plt.axis('equal') \n",
    "plt.show()"
   ]
  },
  {
   "cell_type": "code",
   "execution_count": 110,
   "id": "102df65d",
   "metadata": {},
   "outputs": [
    {
     "data": {
      "application/vnd.plotly.v1+json": {
       "config": {
        "plotlyServerURL": "https://plot.ly"
       },
       "data": [
        {
         "colorscale": [
          [
           0,
           "rgb(255,245,240)"
          ],
          [
           0.125,
           "rgb(254,224,210)"
          ],
          [
           0.25,
           "rgb(252,187,161)"
          ],
          [
           0.375,
           "rgb(252,146,114)"
          ],
          [
           0.5,
           "rgb(251,106,74)"
          ],
          [
           0.625,
           "rgb(239,59,44)"
          ],
          [
           0.75,
           "rgb(203,24,29)"
          ],
          [
           0.875,
           "rgb(165,15,21)"
          ],
          [
           1,
           "rgb(103,0,13)"
          ]
         ],
         "reversescale": false,
         "showscale": false,
         "type": "heatmap",
         "x": [
          "Albumin",
          "Ascites",
          "Bilirubin",
          "Alk_Phos"
         ],
         "y": [
          "Albumin",
          "Ascites",
          "Bilirubin",
          "Alk_Phos"
         ],
         "z": [
          [
           1,
           -0.2854,
           -0.3142,
           -0.0866
          ],
          [
           -0.2854,
           1,
           0.2986,
           0.0097
          ],
          [
           -0.3142,
           0.2986,
           1,
           0.1038
          ],
          [
           -0.0866,
           0.0097,
           0.1038,
           1
          ]
         ]
        }
       ],
       "layout": {
        "annotations": [
         {
          "font": {
           "color": "#FFFFFF"
          },
          "showarrow": false,
          "text": "1.0",
          "x": "Albumin",
          "xref": "x",
          "y": "Albumin",
          "yref": "y"
         },
         {
          "font": {
           "color": "#000000"
          },
          "showarrow": false,
          "text": "-0.2854",
          "x": "Ascites",
          "xref": "x",
          "y": "Albumin",
          "yref": "y"
         },
         {
          "font": {
           "color": "#000000"
          },
          "showarrow": false,
          "text": "-0.3142",
          "x": "Bilirubin",
          "xref": "x",
          "y": "Albumin",
          "yref": "y"
         },
         {
          "font": {
           "color": "#000000"
          },
          "showarrow": false,
          "text": "-0.0866",
          "x": "Alk_Phos",
          "xref": "x",
          "y": "Albumin",
          "yref": "y"
         },
         {
          "font": {
           "color": "#000000"
          },
          "showarrow": false,
          "text": "-0.2854",
          "x": "Albumin",
          "xref": "x",
          "y": "Ascites",
          "yref": "y"
         },
         {
          "font": {
           "color": "#FFFFFF"
          },
          "showarrow": false,
          "text": "1.0",
          "x": "Ascites",
          "xref": "x",
          "y": "Ascites",
          "yref": "y"
         },
         {
          "font": {
           "color": "#000000"
          },
          "showarrow": false,
          "text": "0.2986",
          "x": "Bilirubin",
          "xref": "x",
          "y": "Ascites",
          "yref": "y"
         },
         {
          "font": {
           "color": "#000000"
          },
          "showarrow": false,
          "text": "0.0097",
          "x": "Alk_Phos",
          "xref": "x",
          "y": "Ascites",
          "yref": "y"
         },
         {
          "font": {
           "color": "#000000"
          },
          "showarrow": false,
          "text": "-0.3142",
          "x": "Albumin",
          "xref": "x",
          "y": "Bilirubin",
          "yref": "y"
         },
         {
          "font": {
           "color": "#000000"
          },
          "showarrow": false,
          "text": "0.2986",
          "x": "Ascites",
          "xref": "x",
          "y": "Bilirubin",
          "yref": "y"
         },
         {
          "font": {
           "color": "#FFFFFF"
          },
          "showarrow": false,
          "text": "1.0",
          "x": "Bilirubin",
          "xref": "x",
          "y": "Bilirubin",
          "yref": "y"
         },
         {
          "font": {
           "color": "#000000"
          },
          "showarrow": false,
          "text": "0.1038",
          "x": "Alk_Phos",
          "xref": "x",
          "y": "Bilirubin",
          "yref": "y"
         },
         {
          "font": {
           "color": "#000000"
          },
          "showarrow": false,
          "text": "-0.0866",
          "x": "Albumin",
          "xref": "x",
          "y": "Alk_Phos",
          "yref": "y"
         },
         {
          "font": {
           "color": "#000000"
          },
          "showarrow": false,
          "text": "0.0097",
          "x": "Ascites",
          "xref": "x",
          "y": "Alk_Phos",
          "yref": "y"
         },
         {
          "font": {
           "color": "#000000"
          },
          "showarrow": false,
          "text": "0.1038",
          "x": "Bilirubin",
          "xref": "x",
          "y": "Alk_Phos",
          "yref": "y"
         },
         {
          "font": {
           "color": "#FFFFFF"
          },
          "showarrow": false,
          "text": "1.0",
          "x": "Alk_Phos",
          "xref": "x",
          "y": "Alk_Phos",
          "yref": "y"
         }
        ],
        "font": {
         "size": 10
        },
        "template": {
         "data": {
          "bar": [
           {
            "error_x": {
             "color": "#2a3f5f"
            },
            "error_y": {
             "color": "#2a3f5f"
            },
            "marker": {
             "line": {
              "color": "#E5ECF6",
              "width": 0.5
             },
             "pattern": {
              "fillmode": "overlay",
              "size": 10,
              "solidity": 0.2
             }
            },
            "type": "bar"
           }
          ],
          "barpolar": [
           {
            "marker": {
             "line": {
              "color": "#E5ECF6",
              "width": 0.5
             },
             "pattern": {
              "fillmode": "overlay",
              "size": 10,
              "solidity": 0.2
             }
            },
            "type": "barpolar"
           }
          ],
          "carpet": [
           {
            "aaxis": {
             "endlinecolor": "#2a3f5f",
             "gridcolor": "white",
             "linecolor": "white",
             "minorgridcolor": "white",
             "startlinecolor": "#2a3f5f"
            },
            "baxis": {
             "endlinecolor": "#2a3f5f",
             "gridcolor": "white",
             "linecolor": "white",
             "minorgridcolor": "white",
             "startlinecolor": "#2a3f5f"
            },
            "type": "carpet"
           }
          ],
          "choropleth": [
           {
            "colorbar": {
             "outlinewidth": 0,
             "ticks": ""
            },
            "type": "choropleth"
           }
          ],
          "contour": [
           {
            "colorbar": {
             "outlinewidth": 0,
             "ticks": ""
            },
            "colorscale": [
             [
              0,
              "#0d0887"
             ],
             [
              0.1111111111111111,
              "#46039f"
             ],
             [
              0.2222222222222222,
              "#7201a8"
             ],
             [
              0.3333333333333333,
              "#9c179e"
             ],
             [
              0.4444444444444444,
              "#bd3786"
             ],
             [
              0.5555555555555556,
              "#d8576b"
             ],
             [
              0.6666666666666666,
              "#ed7953"
             ],
             [
              0.7777777777777778,
              "#fb9f3a"
             ],
             [
              0.8888888888888888,
              "#fdca26"
             ],
             [
              1,
              "#f0f921"
             ]
            ],
            "type": "contour"
           }
          ],
          "contourcarpet": [
           {
            "colorbar": {
             "outlinewidth": 0,
             "ticks": ""
            },
            "type": "contourcarpet"
           }
          ],
          "heatmap": [
           {
            "colorbar": {
             "outlinewidth": 0,
             "ticks": ""
            },
            "colorscale": [
             [
              0,
              "#0d0887"
             ],
             [
              0.1111111111111111,
              "#46039f"
             ],
             [
              0.2222222222222222,
              "#7201a8"
             ],
             [
              0.3333333333333333,
              "#9c179e"
             ],
             [
              0.4444444444444444,
              "#bd3786"
             ],
             [
              0.5555555555555556,
              "#d8576b"
             ],
             [
              0.6666666666666666,
              "#ed7953"
             ],
             [
              0.7777777777777778,
              "#fb9f3a"
             ],
             [
              0.8888888888888888,
              "#fdca26"
             ],
             [
              1,
              "#f0f921"
             ]
            ],
            "type": "heatmap"
           }
          ],
          "heatmapgl": [
           {
            "colorbar": {
             "outlinewidth": 0,
             "ticks": ""
            },
            "colorscale": [
             [
              0,
              "#0d0887"
             ],
             [
              0.1111111111111111,
              "#46039f"
             ],
             [
              0.2222222222222222,
              "#7201a8"
             ],
             [
              0.3333333333333333,
              "#9c179e"
             ],
             [
              0.4444444444444444,
              "#bd3786"
             ],
             [
              0.5555555555555556,
              "#d8576b"
             ],
             [
              0.6666666666666666,
              "#ed7953"
             ],
             [
              0.7777777777777778,
              "#fb9f3a"
             ],
             [
              0.8888888888888888,
              "#fdca26"
             ],
             [
              1,
              "#f0f921"
             ]
            ],
            "type": "heatmapgl"
           }
          ],
          "histogram": [
           {
            "marker": {
             "pattern": {
              "fillmode": "overlay",
              "size": 10,
              "solidity": 0.2
             }
            },
            "type": "histogram"
           }
          ],
          "histogram2d": [
           {
            "colorbar": {
             "outlinewidth": 0,
             "ticks": ""
            },
            "colorscale": [
             [
              0,
              "#0d0887"
             ],
             [
              0.1111111111111111,
              "#46039f"
             ],
             [
              0.2222222222222222,
              "#7201a8"
             ],
             [
              0.3333333333333333,
              "#9c179e"
             ],
             [
              0.4444444444444444,
              "#bd3786"
             ],
             [
              0.5555555555555556,
              "#d8576b"
             ],
             [
              0.6666666666666666,
              "#ed7953"
             ],
             [
              0.7777777777777778,
              "#fb9f3a"
             ],
             [
              0.8888888888888888,
              "#fdca26"
             ],
             [
              1,
              "#f0f921"
             ]
            ],
            "type": "histogram2d"
           }
          ],
          "histogram2dcontour": [
           {
            "colorbar": {
             "outlinewidth": 0,
             "ticks": ""
            },
            "colorscale": [
             [
              0,
              "#0d0887"
             ],
             [
              0.1111111111111111,
              "#46039f"
             ],
             [
              0.2222222222222222,
              "#7201a8"
             ],
             [
              0.3333333333333333,
              "#9c179e"
             ],
             [
              0.4444444444444444,
              "#bd3786"
             ],
             [
              0.5555555555555556,
              "#d8576b"
             ],
             [
              0.6666666666666666,
              "#ed7953"
             ],
             [
              0.7777777777777778,
              "#fb9f3a"
             ],
             [
              0.8888888888888888,
              "#fdca26"
             ],
             [
              1,
              "#f0f921"
             ]
            ],
            "type": "histogram2dcontour"
           }
          ],
          "mesh3d": [
           {
            "colorbar": {
             "outlinewidth": 0,
             "ticks": ""
            },
            "type": "mesh3d"
           }
          ],
          "parcoords": [
           {
            "line": {
             "colorbar": {
              "outlinewidth": 0,
              "ticks": ""
             }
            },
            "type": "parcoords"
           }
          ],
          "pie": [
           {
            "automargin": true,
            "type": "pie"
           }
          ],
          "scatter": [
           {
            "fillpattern": {
             "fillmode": "overlay",
             "size": 10,
             "solidity": 0.2
            },
            "type": "scatter"
           }
          ],
          "scatter3d": [
           {
            "line": {
             "colorbar": {
              "outlinewidth": 0,
              "ticks": ""
             }
            },
            "marker": {
             "colorbar": {
              "outlinewidth": 0,
              "ticks": ""
             }
            },
            "type": "scatter3d"
           }
          ],
          "scattercarpet": [
           {
            "marker": {
             "colorbar": {
              "outlinewidth": 0,
              "ticks": ""
             }
            },
            "type": "scattercarpet"
           }
          ],
          "scattergeo": [
           {
            "marker": {
             "colorbar": {
              "outlinewidth": 0,
              "ticks": ""
             }
            },
            "type": "scattergeo"
           }
          ],
          "scattergl": [
           {
            "marker": {
             "colorbar": {
              "outlinewidth": 0,
              "ticks": ""
             }
            },
            "type": "scattergl"
           }
          ],
          "scattermapbox": [
           {
            "marker": {
             "colorbar": {
              "outlinewidth": 0,
              "ticks": ""
             }
            },
            "type": "scattermapbox"
           }
          ],
          "scatterpolar": [
           {
            "marker": {
             "colorbar": {
              "outlinewidth": 0,
              "ticks": ""
             }
            },
            "type": "scatterpolar"
           }
          ],
          "scatterpolargl": [
           {
            "marker": {
             "colorbar": {
              "outlinewidth": 0,
              "ticks": ""
             }
            },
            "type": "scatterpolargl"
           }
          ],
          "scatterternary": [
           {
            "marker": {
             "colorbar": {
              "outlinewidth": 0,
              "ticks": ""
             }
            },
            "type": "scatterternary"
           }
          ],
          "surface": [
           {
            "colorbar": {
             "outlinewidth": 0,
             "ticks": ""
            },
            "colorscale": [
             [
              0,
              "#0d0887"
             ],
             [
              0.1111111111111111,
              "#46039f"
             ],
             [
              0.2222222222222222,
              "#7201a8"
             ],
             [
              0.3333333333333333,
              "#9c179e"
             ],
             [
              0.4444444444444444,
              "#bd3786"
             ],
             [
              0.5555555555555556,
              "#d8576b"
             ],
             [
              0.6666666666666666,
              "#ed7953"
             ],
             [
              0.7777777777777778,
              "#fb9f3a"
             ],
             [
              0.8888888888888888,
              "#fdca26"
             ],
             [
              1,
              "#f0f921"
             ]
            ],
            "type": "surface"
           }
          ],
          "table": [
           {
            "cells": {
             "fill": {
              "color": "#EBF0F8"
             },
             "line": {
              "color": "white"
             }
            },
            "header": {
             "fill": {
              "color": "#C8D4E3"
             },
             "line": {
              "color": "white"
             }
            },
            "type": "table"
           }
          ]
         },
         "layout": {
          "annotationdefaults": {
           "arrowcolor": "#2a3f5f",
           "arrowhead": 0,
           "arrowwidth": 1
          },
          "autotypenumbers": "strict",
          "coloraxis": {
           "colorbar": {
            "outlinewidth": 0,
            "ticks": ""
           }
          },
          "colorscale": {
           "diverging": [
            [
             0,
             "#8e0152"
            ],
            [
             0.1,
             "#c51b7d"
            ],
            [
             0.2,
             "#de77ae"
            ],
            [
             0.3,
             "#f1b6da"
            ],
            [
             0.4,
             "#fde0ef"
            ],
            [
             0.5,
             "#f7f7f7"
            ],
            [
             0.6,
             "#e6f5d0"
            ],
            [
             0.7,
             "#b8e186"
            ],
            [
             0.8,
             "#7fbc41"
            ],
            [
             0.9,
             "#4d9221"
            ],
            [
             1,
             "#276419"
            ]
           ],
           "sequential": [
            [
             0,
             "#0d0887"
            ],
            [
             0.1111111111111111,
             "#46039f"
            ],
            [
             0.2222222222222222,
             "#7201a8"
            ],
            [
             0.3333333333333333,
             "#9c179e"
            ],
            [
             0.4444444444444444,
             "#bd3786"
            ],
            [
             0.5555555555555556,
             "#d8576b"
            ],
            [
             0.6666666666666666,
             "#ed7953"
            ],
            [
             0.7777777777777778,
             "#fb9f3a"
            ],
            [
             0.8888888888888888,
             "#fdca26"
            ],
            [
             1,
             "#f0f921"
            ]
           ],
           "sequentialminus": [
            [
             0,
             "#0d0887"
            ],
            [
             0.1111111111111111,
             "#46039f"
            ],
            [
             0.2222222222222222,
             "#7201a8"
            ],
            [
             0.3333333333333333,
             "#9c179e"
            ],
            [
             0.4444444444444444,
             "#bd3786"
            ],
            [
             0.5555555555555556,
             "#d8576b"
            ],
            [
             0.6666666666666666,
             "#ed7953"
            ],
            [
             0.7777777777777778,
             "#fb9f3a"
            ],
            [
             0.8888888888888888,
             "#fdca26"
            ],
            [
             1,
             "#f0f921"
            ]
           ]
          },
          "colorway": [
           "#636efa",
           "#EF553B",
           "#00cc96",
           "#ab63fa",
           "#FFA15A",
           "#19d3f3",
           "#FF6692",
           "#B6E880",
           "#FF97FF",
           "#FECB52"
          ],
          "font": {
           "color": "#2a3f5f"
          },
          "geo": {
           "bgcolor": "white",
           "lakecolor": "white",
           "landcolor": "#E5ECF6",
           "showlakes": true,
           "showland": true,
           "subunitcolor": "white"
          },
          "hoverlabel": {
           "align": "left"
          },
          "hovermode": "closest",
          "mapbox": {
           "style": "light"
          },
          "paper_bgcolor": "white",
          "plot_bgcolor": "#E5ECF6",
          "polar": {
           "angularaxis": {
            "gridcolor": "white",
            "linecolor": "white",
            "ticks": ""
           },
           "bgcolor": "#E5ECF6",
           "radialaxis": {
            "gridcolor": "white",
            "linecolor": "white",
            "ticks": ""
           }
          },
          "scene": {
           "xaxis": {
            "backgroundcolor": "#E5ECF6",
            "gridcolor": "white",
            "gridwidth": 2,
            "linecolor": "white",
            "showbackground": true,
            "ticks": "",
            "zerolinecolor": "white"
           },
           "yaxis": {
            "backgroundcolor": "#E5ECF6",
            "gridcolor": "white",
            "gridwidth": 2,
            "linecolor": "white",
            "showbackground": true,
            "ticks": "",
            "zerolinecolor": "white"
           },
           "zaxis": {
            "backgroundcolor": "#E5ECF6",
            "gridcolor": "white",
            "gridwidth": 2,
            "linecolor": "white",
            "showbackground": true,
            "ticks": "",
            "zerolinecolor": "white"
           }
          },
          "shapedefaults": {
           "line": {
            "color": "#2a3f5f"
           }
          },
          "ternary": {
           "aaxis": {
            "gridcolor": "white",
            "linecolor": "white",
            "ticks": ""
           },
           "baxis": {
            "gridcolor": "white",
            "linecolor": "white",
            "ticks": ""
           },
           "bgcolor": "#E5ECF6",
           "caxis": {
            "gridcolor": "white",
            "linecolor": "white",
            "ticks": ""
           }
          },
          "title": {
           "x": 0.05
          },
          "xaxis": {
           "automargin": true,
           "gridcolor": "white",
           "linecolor": "white",
           "ticks": "",
           "title": {
            "standoff": 15
           },
           "zerolinecolor": "white",
           "zerolinewidth": 2
          },
          "yaxis": {
           "automargin": true,
           "gridcolor": "white",
           "linecolor": "white",
           "ticks": "",
           "title": {
            "standoff": 15
           },
           "zerolinecolor": "white",
           "zerolinewidth": 2
          }
         }
        },
        "title": {
         "text": "Correlation Heatmap (Interactive)"
        },
        "xaxis": {
         "dtick": 1,
         "gridcolor": "rgb(0, 0, 0)",
         "side": "top",
         "ticks": "",
         "title": {
          "text": "Features"
         }
        },
        "yaxis": {
         "dtick": 1,
         "ticks": "",
         "ticksuffix": "  ",
         "title": {
          "text": "Features"
         }
        }
       }
      }
     },
     "metadata": {},
     "output_type": "display_data"
    }
   ],
   "source": [
    "continuous_cols=['Albumin', 'Ascites', 'Bilirubin', 'Alk_Phos']\n",
    "correlation_matrix = df_copy_cancer[continuous_cols].corr().round(4).values #round() can let decrease the number of decimal places \n",
    "fig_heatmap = ff.create_annotated_heatmap(\n",
    "    z=correlation_matrix,\n",
    "    x=continuous_cols,\n",
    "    y=continuous_cols,\n",
    "    colorscale='Reds' # you can use \"Plasma\", \"Viridis\", \"Reds\", \"Blues\", \"RdBu\", \"Portland\", \"Spectral\"\n",
    ")\n",
    "fig_heatmap.update_layout(\n",
    "    font=dict(size=10),\n",
    "    title=\"Correlation Heatmap (Interactive)\",\n",
    "    xaxis_title=\"Features\",\n",
    "    yaxis_title=\"Features\"\n",
    ")\n",
    "fig_heatmap.show()"
   ]
  }
 ],
 "metadata": {
  "kernelspec": {
   "display_name": "base",
   "language": "python",
   "name": "python3"
  },
  "language_info": {
   "codemirror_mode": {
    "name": "ipython",
    "version": 3
   },
   "file_extension": ".py",
   "mimetype": "text/x-python",
   "name": "python",
   "nbconvert_exporter": "python",
   "pygments_lexer": "ipython3",
   "version": "3.13.5"
  }
 },
 "nbformat": 4,
 "nbformat_minor": 5
}
